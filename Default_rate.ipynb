{
 "cells": [
  {
   "cell_type": "markdown",
   "metadata": {},
   "source": [
    "# Import Data"
   ]
  },
  {
   "cell_type": "code",
   "execution_count": 1,
   "metadata": {},
   "outputs": [],
   "source": [
    "# Data: https://www.kaggle.com/wendykan/lending-club-loan-data/data\n",
    "loan <- read.csv(\"C:/Users/yuanq/Desktop/bittiger/loan.csv\", stringsAsFactors = FALSE)\n",
    "loanT <- loan"
   ]
  },
  {
   "cell_type": "markdown",
   "metadata": {},
   "source": [
    "# Import Library"
   ]
  },
  {
   "cell_type": "code",
   "execution_count": 2,
   "metadata": {},
   "outputs": [
    {
     "name": "stderr",
     "output_type": "stream",
     "text": [
      "Warning message:\n",
      "\"package 'ggplot2' was built under R version 3.4.3\"Warning message:\n",
      "\"package 'tidyverse' was built under R version 3.4.3\"-- Attaching packages --------------------------------------- tidyverse 1.2.1 --\n",
      "v tibble  1.3.4     v purrr   0.2.4\n",
      "v tidyr   0.7.2     v dplyr   0.7.4\n",
      "v readr   1.1.1     v stringr 1.2.0\n",
      "v tibble  1.3.4     v forcats 0.2.0\n",
      "Warning message:\n",
      "\"package 'tibble' was built under R version 3.4.3\"Warning message:\n",
      "\"package 'tidyr' was built under R version 3.4.3\"Warning message:\n",
      "\"package 'readr' was built under R version 3.4.3\"Warning message:\n",
      "\"package 'purrr' was built under R version 3.4.3\"Warning message:\n",
      "\"package 'dplyr' was built under R version 3.4.3\"Warning message:\n",
      "\"package 'stringr' was built under R version 3.4.3\"Warning message:\n",
      "\"package 'forcats' was built under R version 3.4.3\"-- Conflicts ------------------------------------------ tidyverse_conflicts() --\n",
      "x dplyr::filter() masks stats::filter()\n",
      "x dplyr::lag()    masks stats::lag()\n"
     ]
    }
   ],
   "source": [
    "library(ggplot2)\n",
    "library(tidyverse)"
   ]
  },
  {
   "cell_type": "markdown",
   "metadata": {},
   "source": [
    "# Missing Value"
   ]
  },
  {
   "cell_type": "code",
   "execution_count": 4,
   "metadata": {},
   "outputs": [],
   "source": [
    "num.NA <- sort(sapply(loan, function(x) {sum(is.na(x))}), decreasing=TRUE)"
   ]
  },
  {
   "cell_type": "code",
   "execution_count": 5,
   "metadata": {},
   "outputs": [],
   "source": [
    "dfnum.NA <- data.frame(name=names(num.NA), per50 = num.NA/nrow(loan)>=0.5,percentage=num.NA/dim(loan)[1], row.names = NULL)"
   ]
  },
  {
   "cell_type": "code",
   "execution_count": 6,
   "metadata": {},
   "outputs": [
    {
     "data": {},
     "metadata": {},
     "output_type": "display_data"
    },
    {
     "data": {
      "image/png": "[encoded data removed]",
      "text/plain": [
       "plot without title"
      ]
     },
     "metadata": {},
     "output_type": "display_data"
    }
   ],
   "source": [
    "ggplot(data = dfnum.NA, aes(x=name, y=percentage)) + \n",
    "  geom_bar(aes(fill=per50), stat=\"identity\") + \n",
    "  scale_x_discrete(name =\"column names\", \n",
    "                   limits=dfnum.NA$name)+\n",
    "  theme(axis.text.x = element_text(angle=90, hjust=1, vjust=1),\n",
    "        legend.position = \"none\") +\n",
    "  geom_hline(yintercept = 0.5) + \n",
    "  ggtitle(\"percentage of missing\")"
   ]
  },
  {
   "cell_type": "markdown",
   "metadata": {},
   "source": [
    "### Keep the column that its missing value less than 50%"
   ]
  },
  {
   "cell_type": "code",
   "execution_count": 7,
   "metadata": {},
   "outputs": [],
   "source": [
    "remain.col <- names(num.NA)[which(num.NA <= 0.5 * dim(loan)[1])]\n",
    "loan <- loan[, remain.col]"
   ]
  },
  {
   "cell_type": "code",
   "execution_count": 8,
   "metadata": {},
   "outputs": [
    {
     "data": {
      "text/html": [
       "<dl class=dl-horizontal>\n",
       "\t<dt>tot_coll_amt</dt>\n",
       "\t\t<dd>70276</dd>\n",
       "\t<dt>tot_cur_bal</dt>\n",
       "\t\t<dd>70276</dd>\n",
       "\t<dt>total_rev_hi_lim</dt>\n",
       "\t\t<dd>70276</dd>\n",
       "\t<dt>revol_util</dt>\n",
       "\t\t<dd>502</dd>\n",
       "\t<dt>collections_12_mths_ex_med</dt>\n",
       "\t\t<dd>145</dd>\n",
       "\t<dt>delinq_2yrs</dt>\n",
       "\t\t<dd>29</dd>\n",
       "</dl>\n"
      ],
      "text/latex": [
       "\\begin{description*}\n",
       "\\item[tot\\textbackslash{}\\_coll\\textbackslash{}\\_amt] 70276\n",
       "\\item[tot\\textbackslash{}\\_cur\\textbackslash{}\\_bal] 70276\n",
       "\\item[total\\textbackslash{}\\_rev\\textbackslash{}\\_hi\\textbackslash{}\\_lim] 70276\n",
       "\\item[revol\\textbackslash{}\\_util] 502\n",
       "\\item[collections\\textbackslash{}\\_12\\textbackslash{}\\_mths\\textbackslash{}\\_ex\\textbackslash{}\\_med] 145\n",
       "\\item[delinq\\textbackslash{}\\_2yrs] 29\n",
       "\\end{description*}\n"
      ],
      "text/markdown": [
       "tot_coll_amt\n",
       ":   70276tot_cur_bal\n",
       ":   70276total_rev_hi_lim\n",
       ":   70276revol_util\n",
       ":   502collections_12_mths_ex_med\n",
       ":   145delinq_2yrs\n",
       ":   29\n",
       "\n"
      ],
      "text/plain": [
       "              tot_coll_amt                tot_cur_bal \n",
       "                     70276                      70276 \n",
       "          total_rev_hi_lim                 revol_util \n",
       "                     70276                        502 \n",
       "collections_12_mths_ex_med                delinq_2yrs \n",
       "                       145                         29 "
      ]
     },
     "metadata": {},
     "output_type": "display_data"
    }
   ],
   "source": [
    "num.NA <- sort(sapply(loan, function(x) {sum(is.na(x))}), decreasing=TRUE)\n",
    "head(num.NA)"
   ]
  },
  {
   "cell_type": "markdown",
   "metadata": {},
   "source": [
    "### Target-loan_status"
   ]
  },
  {
   "cell_type": "code",
   "execution_count": 9,
   "metadata": {},
   "outputs": [
    {
     "data": {
      "text/plain": [
       "\n",
       "                                        Charged Off \n",
       "                                              45248 \n",
       "                                            Current \n",
       "                                             601779 \n",
       "                                            Default \n",
       "                                               1219 \n",
       "Does not meet the credit policy. Status:Charged Off \n",
       "                                                761 \n",
       " Does not meet the credit policy. Status:Fully Paid \n",
       "                                               1988 \n",
       "                                         Fully Paid \n",
       "                                             207723 \n",
       "                                    In Grace Period \n",
       "                                               6253 \n",
       "                                             Issued \n",
       "                                               8460 \n",
       "                                  Late (16-30 days) \n",
       "                                               2357 \n",
       "                                 Late (31-120 days) \n",
       "                                              11591 "
      ]
     },
     "metadata": {},
     "output_type": "display_data"
    }
   ],
   "source": [
    "table(loan$loan_status)"
   ]
  },
  {
   "cell_type": "code",
   "execution_count": 10,
   "metadata": {},
   "outputs": [
    {
     "data": {},
     "metadata": {},
     "output_type": "display_data"
    },
    {
     "data": {
      "image/png": "[encoded data removed]",
      "text/plain": [
       "plot without title"
      ]
     },
     "metadata": {},
     "output_type": "display_data"
    }
   ],
   "source": [
    "ggplot(data = loan) + geom_bar(mapping = aes(x = loan_status, fill = loan_status))"
   ]
  },
  {
   "cell_type": "code",
   "execution_count": 11,
   "metadata": {},
   "outputs": [],
   "source": [
    "# remove certain string from loan_status\n",
    "loan$loan_status <- gsub('Does not meet the credit policy. Status:','', loan$loan_status)"
   ]
  },
  {
   "cell_type": "code",
   "execution_count": 12,
   "metadata": {},
   "outputs": [
    {
     "data": {
      "text/plain": [
       "\n",
       "       Charged Off            Current            Default         Fully Paid \n",
       "             46009             601779               1219             209711 \n",
       "   In Grace Period             Issued  Late (16-30 days) Late (31-120 days) \n",
       "              6253               8460               2357              11591 "
      ]
     },
     "metadata": {},
     "output_type": "display_data"
    }
   ],
   "source": [
    "table(loan$loan_status)"
   ]
  },
  {
   "cell_type": "code",
   "execution_count": 13,
   "metadata": {},
   "outputs": [
    {
     "data": {},
     "metadata": {},
     "output_type": "display_data"
    },
    {
     "data": {
      "image/png": "[encoded data removed]",
      "text/plain": [
       "plot without title"
      ]
     },
     "metadata": {},
     "output_type": "display_data"
    }
   ],
   "source": [
    "ggplot(data = loan) + geom_bar(mapping = aes(x = loan_status, fill = loan_status))"
   ]
  },
  {
   "cell_type": "markdown",
   "metadata": {},
   "source": [
    " - How to generate a new feature for target(default)\n",
    " - Does an unbalanced sample matter?"
   ]
  },
  {
   "cell_type": "markdown",
   "metadata": {},
   "source": [
    " - Completed or fully paid:\tAll paid off\n",
    " - Current:\tAll past payments on time and as agreed,  not fully paid off yet.\n",
    " - In grace period:\tLoan is past due but within the 15-day grace period. \n",
    " - Default:\t121+ days past due.\n",
    " - Charged off:\t150 days past due\n",
    " - understand loan status: https://www.orchardplatform.com/blog/understanding-loan-statuses/\n",
    " - What do the different loan status mean: https://help.lendingclub.com/hc/en-us/articles/215488038-What-do-the-different-Note-statuses-mean-"
   ]
  },
  {
   "cell_type": "markdown",
   "metadata": {},
   "source": [
    "Find out pattern based on the next payment date"
   ]
  },
  {
   "cell_type": "code",
   "execution_count": 3,
   "metadata": {},
   "outputs": [
    {
     "data": {
      "text/plain": [
       "\n",
       "         Apr-2008 Apr-2009 Apr-2010 Apr-2011 Apr-2012 Apr-2013 Apr-2014 \n",
       "  252971        4       10       31      101       49       43        3 \n",
       "Apr-2015 Aug-2008 Aug-2009 Aug-2010 Aug-2011 Aug-2012 Aug-2013 Aug-2014 \n",
       "       7       10       32       54       57       31       22        2 \n",
       "Aug-2015 Dec-2007 Dec-2008 Dec-2009 Dec-2010 Dec-2011 Dec-2012 Dec-2013 \n",
       "       9        1       51       53       71       43       36       25 \n",
       "Dec-2014 Dec-2015 Feb-2008 Feb-2009 Feb-2010 Feb-2011 Feb-2012 Feb-2013 \n",
       "       4        2        2        5       29       91       26       42 \n",
       "Feb-2014 Feb-2015 Feb-2016 Jan-2008 Jan-2009 Jan-2010 Jan-2011 Jan-2012 \n",
       "      10        4   553406        4       14       20       79       45 \n",
       "Jan-2013 Jan-2014 Jan-2015 Jan-2016 Jul-2008 Jul-2009 Jul-2010 Jul-2011 \n",
       "      29       18        3    78195        3       16       49       53 \n",
       "Jul-2012 Jul-2013 Jul-2014 Jul-2015 Jun-2008 Jun-2009 Jun-2010 Jun-2011 \n",
       "      34       19        2        8        4       20       27       66 \n",
       "Jun-2012 Jun-2013 Jun-2014 Jun-2015 Mar-2008 Mar-2009 Mar-2010 Mar-2011 \n",
       "      40       32        3        6        3       12       49      107 \n",
       "Mar-2012 Mar-2013 Mar-2014 Mar-2015 Mar-2016 May-2008 May-2009 May-2010 \n",
       "      48       40        7        1       68        1       24       29 \n",
       "May-2011 May-2012 May-2013 May-2014 May-2015 Nov-2008 Nov-2009 Nov-2010 \n",
       "      77       48       42        6        7        7       52       55 \n",
       "Nov-2011 Nov-2012 Nov-2013 Nov-2014 Nov-2015 Oct-2008 Oct-2009 Oct-2010 \n",
       "      36       35       26        3       14       11       53       48 \n",
       "Oct-2011 Oct-2012 Oct-2013 Oct-2014 Oct-2015 Sep-2008 Sep-2009 Sep-2010 \n",
       "      47       47       34        2        9        5       21       53 \n",
       "Sep-2011 Sep-2012 Sep-2013 Sep-2014 Sep-2015 \n",
       "      63       33       18        3        9 "
      ]
     },
     "metadata": {},
     "output_type": "display_data"
    }
   ],
   "source": [
    "table(loan$next_pymnt_d)"
   ]
  },
  {
   "cell_type": "code",
   "execution_count": null,
   "metadata": {},
   "outputs": [],
   "source": [
    "table(null_next_pymnt_d$loan_status)"
   ]
  },
  {
   "cell_type": "markdown",
   "metadata": {},
   "source": [
    "Next payment date of loan whose loan_status is current"
   ]
  },
  {
   "cell_type": "code",
   "execution_count": 4,
   "metadata": {},
   "outputs": [
    {
     "data": {
      "text/plain": [
       "\n",
       "Feb-2016 Jan-2016 Mar-2016 \n",
       "  532937    68776       66 "
      ]
     },
     "metadata": {},
     "output_type": "display_data"
    }
   ],
   "source": [
    "table(subset(loan, loan_status == 'Current')$next_pymnt_d)"
   ]
  },
  {
   "cell_type": "code",
   "execution_count": 5,
   "metadata": {},
   "outputs": [
    {
     "data": {
      "text/plain": [
       "\n",
       "Feb-2016 Jan-2016 \n",
       "    1157       62 "
      ]
     },
     "metadata": {},
     "output_type": "display_data"
    }
   ],
   "source": [
    "table(subset(loan, loan_status == 'Default')$next_pymnt_d)"
   ]
  },
  {
   "cell_type": "code",
   "execution_count": 6,
   "metadata": {},
   "outputs": [
    {
     "data": {
      "text/plain": [
       "\n",
       "      \n",
       "45248 "
      ]
     },
     "metadata": {},
     "output_type": "display_data"
    }
   ],
   "source": [
    "table(subset(loan, loan_status == 'Charged Off')$next_pymnt_d)"
   ]
  },
  {
   "cell_type": "code",
   "execution_count": 7,
   "metadata": {},
   "outputs": [
    {
     "data": {
      "text/plain": [
       "\n",
       "       \n",
       "207723 "
      ]
     },
     "metadata": {},
     "output_type": "display_data"
    }
   ],
   "source": [
    "table(subset(loan, loan_status == 'Fully Paid')$next_pymnt_d)"
   ]
  },
  {
   "cell_type": "code",
   "execution_count": 8,
   "metadata": {},
   "outputs": [
    {
     "data": {
      "text/plain": [
       "\n",
       "Feb-2016 Jan-2016 Mar-2016 \n",
       "    6237       14        2 "
      ]
     },
     "metadata": {},
     "output_type": "display_data"
    }
   ],
   "source": [
    "table(subset(loan, loan_status == 'In Grace Period')$next_pymnt_d)"
   ]
  },
  {
   "cell_type": "code",
   "execution_count": 9,
   "metadata": {},
   "outputs": [
    {
     "data": {
      "text/plain": [
       "\n",
       "Feb-2016 Jan-2016 \n",
       "    1096     7364 "
      ]
     },
     "metadata": {},
     "output_type": "display_data"
    }
   ],
   "source": [
    "table(subset(loan, loan_status == 'Issued')$next_pymnt_d)"
   ]
  },
  {
   "cell_type": "code",
   "execution_count": 10,
   "metadata": {},
   "outputs": [
    {
     "data": {
      "text/plain": [
       "\n",
       "Feb-2016 Jan-2016 \n",
       "    1773      584 "
      ]
     },
     "metadata": {},
     "output_type": "display_data"
    }
   ],
   "source": [
    "table(subset(loan, loan_status == 'Late (16-30 days)')$next_pymnt_d)"
   ]
  },
  {
   "cell_type": "code",
   "execution_count": 11,
   "metadata": {},
   "outputs": [
    {
     "data": {
      "text/plain": [
       "\n",
       "Feb-2016 Jan-2016 \n",
       "   10203     1388 "
      ]
     },
     "metadata": {},
     "output_type": "display_data"
    }
   ],
   "source": [
    "table(subset(loan, loan_status == 'Late (31-120 days)')$next_pymnt_d)"
   ]
  },
  {
   "cell_type": "code",
   "execution_count": 12,
   "metadata": {},
   "outputs": [
    {
     "data": {
      "text/plain": [
       "\n",
       "         Aug-2015 Dec-2015 Jan-2016 Nov-2015 Oct-2015 Sep-2015 \n",
       "     120       23     1251     1129     3207     3484     2377 "
      ]
     },
     "metadata": {},
     "output_type": "display_data"
    }
   ],
   "source": [
    "table(subset(loan, loan_status == 'Late (31-120 days)')$last_pymnt_d)"
   ]
  },
  {
   "cell_type": "code",
   "execution_count": 13,
   "metadata": {},
   "outputs": [
    {
     "data": {
      "text/plain": [
       "\n",
       "         Dec-2015 Jan-2016 Nov-2015 \n",
       "      41     2064      175       77 "
      ]
     },
     "metadata": {},
     "output_type": "display_data"
    }
   ],
   "source": [
    "table(subset(loan, loan_status == 'Late (16-30 days)')$last_pymnt_d)"
   ]
  },
  {
   "cell_type": "code",
   "execution_count": 14,
   "metadata": {},
   "outputs": [
    {
     "data": {
      "text/plain": [
       "\n",
       "         Jan-2016 \n",
       "    8412       48 "
      ]
     },
     "metadata": {},
     "output_type": "display_data"
    }
   ],
   "source": [
    "table(subset(loan, loan_status == 'Issued')$last_pymnt_d)"
   ]
  },
  {
   "cell_type": "code",
   "execution_count": 15,
   "metadata": {},
   "outputs": [
    {
     "data": {
      "text/plain": [
       "\n",
       "         Dec-2015 Jan-2016 Nov-2015 \n",
       "     212     4755     1285        1 "
      ]
     },
     "metadata": {},
     "output_type": "display_data"
    }
   ],
   "source": [
    "table(subset(loan, loan_status == 'In Grace Period')$last_pymnt_d)"
   ]
  },
  {
   "cell_type": "code",
   "execution_count": 16,
   "metadata": {},
   "outputs": [
    {
     "data": {
      "text/plain": [
       "\n",
       "Apr-2008 Apr-2009 Apr-2010 Apr-2011 Apr-2012 Apr-2013 Apr-2014 Apr-2015 \n",
       "      12       28       76      352      670     1458     3376     8907 \n",
       "Aug-2008 Aug-2009 Aug-2010 Aug-2011 Aug-2012 Aug-2013 Aug-2014 Aug-2015 \n",
       "       6       28      108      325      857     1865     4850    10063 \n",
       "Dec-2008 Dec-2009 Dec-2010 Dec-2011 Dec-2012 Dec-2013 Dec-2014 Dec-2015 \n",
       "       7       52      185      415      882     2325     5568    12044 \n",
       "Feb-2008 Feb-2009 Feb-2010 Feb-2011 Feb-2012 Feb-2013 Feb-2014 Feb-2015 \n",
       "       1       20       92      292      606     1255     2889     7202 \n",
       "Jan-2008 Jan-2009 Jan-2010 Jan-2011 Jan-2012 Jan-2013 Jan-2014 Jan-2015 \n",
       "       4       14       44      219      422     1106     2774     6965 \n",
       "Jan-2016 Jul-2008 Jul-2009 Jul-2010 Jul-2011 Jul-2012 Jul-2013 Jul-2014 \n",
       "    4652       10       26      137      295      705     1772     4938 \n",
       "Jul-2015 Jun-2008 Jun-2009 Jun-2010 Jun-2011 Jun-2012 Jun-2013 Jun-2014 \n",
       "   11335        6       22       79      303      626     1497     4399 \n",
       "Jun-2015 Mar-2008 Mar-2009 Mar-2010 Mar-2011 Mar-2012 Mar-2013 Mar-2014 \n",
       "    9354        4       27       93      424      753     1670     3636 \n",
       "Mar-2015 May-2008 May-2009 May-2010 May-2011 May-2012 May-2013 May-2014 \n",
       "    8613       10       20       87      308      680     1679     3675 \n",
       "May-2015 Nov-2008 Nov-2009 Nov-2010 Nov-2011 Nov-2012 Nov-2013 Nov-2014 \n",
       "    8699        9       39      150      363      866     1993     4815 \n",
       "Nov-2015 Oct-2008 Oct-2009 Oct-2010 Oct-2011 Oct-2012 Oct-2013 Oct-2014 \n",
       "   10570       16       39      158      327      912     2008     5923 \n",
       "Oct-2015 Sep-2008 Sep-2009 Sep-2010 Sep-2011 Sep-2012 Sep-2013 Sep-2014 \n",
       "   12182        7       16      126      337      830     1779     4765 \n",
       "Sep-2015 \n",
       "   10595 "
      ]
     },
     "metadata": {},
     "output_type": "display_data"
    }
   ],
   "source": [
    "table(subset(loan, loan_status == 'Fully Paid')$last_pymnt_d)"
   ]
  },
  {
   "cell_type": "code",
   "execution_count": 17,
   "metadata": {},
   "outputs": [
    {
     "data": {
      "text/plain": [
       "\n",
       "         Aug-2015 Jan-2016 Jun-2015 May-2015 Sep-2015 \n",
       "       9      999        6        1        1      203 "
      ]
     },
     "metadata": {},
     "output_type": "display_data"
    }
   ],
   "source": [
    "table(subset(loan, loan_status == 'Default')$last_pymnt_d)"
   ]
  },
  {
   "cell_type": "code",
   "execution_count": 18,
   "metadata": {},
   "outputs": [
    {
     "data": {
      "text/plain": [
       "\n",
       "         Dec-2015 Jan-2016 \n",
       "    8326   130624   462829 "
      ]
     },
     "metadata": {},
     "output_type": "display_data"
    }
   ],
   "source": [
    "table(subset(loan, loan_status == 'Current')$last_pymnt_d)"
   ]
  },
  {
   "cell_type": "code",
   "execution_count": 19,
   "metadata": {},
   "outputs": [
    {
     "data": {
      "text/plain": [
       "\n",
       "         Apr-2009 Apr-2010 Apr-2011 Apr-2012 Apr-2013 Apr-2014 Apr-2015 \n",
       "     527       15       38       68      143      413      943     2195 \n",
       "Aug-2008 Aug-2009 Aug-2010 Aug-2011 Aug-2012 Aug-2013 Aug-2014 Aug-2015 \n",
       "       7       21       43      103      241      633     1451     1948 \n",
       "Dec-2008 Dec-2009 Dec-2010 Dec-2011 Dec-2012 Dec-2013 Dec-2014 Dec-2015 \n",
       "       7       41       68      129      291      706     1681      115 \n",
       "Feb-2009 Feb-2010 Feb-2011 Feb-2012 Feb-2013 Feb-2014 Feb-2015 Jan-2009 \n",
       "      13       20       45      151      322      738     1646        7 \n",
       "Jan-2010 Jan-2011 Jan-2012 Jan-2013 Jan-2014 Jan-2015 Jan-2016 Jul-2008 \n",
       "      29       47      124      331      868     1688       23        4 \n",
       "Jul-2009 Jul-2010 Jul-2011 Jul-2012 Jul-2013 Jul-2014 Jul-2015 Jun-2008 \n",
       "      17       51       99      224      597     1374     3137        4 \n",
       "Jun-2009 Jun-2010 Jun-2011 Jun-2012 Jun-2013 Jun-2014 Jun-2015 Mar-2008 \n",
       "      18       37       73      200      475     1219     2622        1 \n",
       "Mar-2009 Mar-2010 Mar-2011 Mar-2012 Mar-2013 Mar-2014 Mar-2015 May-2008 \n",
       "      11       45       64      149      356      933     2142        4 \n",
       "May-2009 May-2010 May-2011 May-2012 May-2013 May-2014 May-2015 Nov-2008 \n",
       "      21       29       78      161      455     1042     2365        1 \n",
       "Nov-2009 Nov-2010 Nov-2011 Nov-2012 Nov-2013 Nov-2014 Nov-2015 Oct-2008 \n",
       "      20       45       91      290      639     1387      122       12 \n",
       "Oct-2009 Oct-2010 Oct-2011 Oct-2012 Oct-2013 Oct-2014 Oct-2015 Sep-2008 \n",
       "      23       58      126      329      804     1748      321        5 \n",
       "Sep-2009 Sep-2010 Sep-2011 Sep-2012 Sep-2013 Sep-2014 Sep-2015 \n",
       "      21       50      113      254      703     1550      650 "
      ]
     },
     "metadata": {},
     "output_type": "display_data"
    }
   ],
   "source": [
    "table(subset(loan, loan_status == 'Charged Off')$last_pymnt_d)"
   ]
  },
  {
   "cell_type": "markdown",
   "metadata": {},
   "source": [
    " - Based on the last payment date and next patment date of different loan status, we categrize charge off, default, in grace period, issued, last(16-30 days) and late(31-120 days) into a single category. \n",
    " - category \"fully paid\" into a single group"
   ]
  },
  {
   "cell_type": "code",
   "execution_count": 120,
   "metadata": {},
   "outputs": [],
   "source": [
    "default_paid = subset(loan, loan_status != 'Current' & loan_status != 'Issued')"
   ]
  },
  {
   "cell_type": "code",
   "execution_count": 121,
   "metadata": {},
   "outputs": [
    {
     "data": {
      "text/plain": [
       "\n",
       "       Charged Off            Default         Fully Paid    In Grace Period \n",
       "             46009               1219             209711               6253 \n",
       " Late (16-30 days) Late (31-120 days) \n",
       "              2357              11591 "
      ]
     },
     "metadata": {},
     "output_type": "display_data"
    }
   ],
   "source": [
    "table(default_paid$loan_status)"
   ]
  },
  {
   "cell_type": "code",
   "execution_count": 15,
   "metadata": {},
   "outputs": [
    {
     "data": {
      "text/html": [
       "<ol class=list-inline>\n",
       "\t<li>285600</li>\n",
       "\t<li>55</li>\n",
       "</ol>\n"
      ],
      "text/latex": [
       "\\begin{enumerate*}\n",
       "\\item 285600\n",
       "\\item 55\n",
       "\\end{enumerate*}\n"
      ],
      "text/markdown": [
       "1. 285600\n",
       "2. 55\n",
       "\n",
       "\n"
      ],
      "text/plain": [
       "[1] 285600     55"
      ]
     },
     "metadata": {},
     "output_type": "display_data"
    }
   ],
   "source": [
    "dim(default_paid)"
   ]
  },
  {
   "cell_type": "code",
   "execution_count": 123,
   "metadata": {},
   "outputs": [],
   "source": [
    "default_paid$loan_status_1 = ifelse(default_paid$loan_status %in% 'Fully Paid', 'paid', 'default')"
   ]
  },
  {
   "cell_type": "code",
   "execution_count": 124,
   "metadata": {},
   "outputs": [],
   "source": [
    "default_paid$loan_status_2 = ifelse(default_paid$loan_status %in% 'default', 1, 0)"
   ]
  },
  {
   "cell_type": "code",
   "execution_count": 125,
   "metadata": {},
   "outputs": [
    {
     "data": {
      "text/plain": [
       "\n",
       "default    paid \n",
       "  67429  209711 "
      ]
     },
     "metadata": {},
     "output_type": "display_data"
    }
   ],
   "source": [
    "table(default_paid$loan_status_1)"
   ]
  },
  {
   "cell_type": "code",
   "execution_count": 126,
   "metadata": {},
   "outputs": [
    {
     "data": {
      "text/plain": [
       "\n",
       "default    paid \n",
       "   0.24    0.76 "
      ]
     },
     "metadata": {},
     "output_type": "display_data"
    }
   ],
   "source": [
    "round(table(default_paid$loan_status_1)/dim(default_paid)[1],2)"
   ]
  },
  {
   "cell_type": "code",
   "execution_count": 127,
   "metadata": {},
   "outputs": [
    {
     "data": {
      "text/html": [
       "<table>\n",
       "<thead><tr><th scope=col>loan_status</th><th scope=col>count</th></tr></thead>\n",
       "<tbody>\n",
       "\t<tr><td>Charged Off       </td><td> 46009            </td></tr>\n",
       "\t<tr><td>Default           </td><td>  1219            </td></tr>\n",
       "\t<tr><td>Fully Paid        </td><td>209711            </td></tr>\n",
       "\t<tr><td>In Grace Period   </td><td>  6253            </td></tr>\n",
       "\t<tr><td>Late (16-30 days) </td><td>  2357            </td></tr>\n",
       "\t<tr><td>Late (31-120 days)</td><td> 11591            </td></tr>\n",
       "</tbody>\n",
       "</table>\n"
      ],
      "text/latex": [
       "\\begin{tabular}{r|ll}\n",
       " loan\\_status & count\\\\\n",
       "\\hline\n",
       "\t Charged Off        &  46009            \\\\\n",
       "\t Default            &   1219            \\\\\n",
       "\t Fully Paid         & 209711            \\\\\n",
       "\t In Grace Period    &   6253            \\\\\n",
       "\t Late (16-30 days)  &   2357            \\\\\n",
       "\t Late (31-120 days) &  11591            \\\\\n",
       "\\end{tabular}\n"
      ],
      "text/markdown": [
       "\n",
       "loan_status | count | \n",
       "|---|---|---|---|---|---|\n",
       "| Charged Off        |  46009             | \n",
       "| Default            |   1219             | \n",
       "| Fully Paid         | 209711             | \n",
       "| In Grace Period    |   6253             | \n",
       "| Late (16-30 days)  |   2357             | \n",
       "| Late (31-120 days) |  11591             | \n",
       "\n",
       "\n"
      ],
      "text/plain": [
       "  loan_status        count \n",
       "1 Charged Off         46009\n",
       "2 Default              1219\n",
       "3 Fully Paid         209711\n",
       "4 In Grace Period      6253\n",
       "5 Late (16-30 days)    2357\n",
       "6 Late (31-120 days)  11591"
      ]
     },
     "metadata": {},
     "output_type": "display_data"
    }
   ],
   "source": [
    "default_paid %>% group_by(loan_status) %>% summarise(count = n())"
   ]
  },
  {
   "cell_type": "code",
   "execution_count": 128,
   "metadata": {
    "scrolled": false
   },
   "outputs": [
    {
     "data": {},
     "metadata": {},
     "output_type": "display_data"
    },
    {
     "data": {
      "image/png": "[encoded data removed]",
      "text/plain": [
       "plot without title"
      ]
     },
     "metadata": {},
     "output_type": "display_data"
    }
   ],
   "source": [
    "tmp = default_paid %>% group_by(loan_status_1) %>% summarise(ncount = n())\n",
    "tmp$ncount = 100 * tmp$ncount/nrow(default_paid)\n",
    "tmp$ncount_p = str_c(round(tmp$ncount,2),\"%\")\n",
    "ggplot(tmp,aes(x=loan_status_1,y=ncount,fill=loan_status_1)) + geom_bar(stat=\"identity\") +\n",
    "    geom_text(aes(label=ncount_p),vjust = 2)"
   ]
  },
  {
   "cell_type": "markdown",
   "metadata": {},
   "source": [
    "The data is moderately imbalance."
   ]
  },
  {
   "cell_type": "markdown",
   "metadata": {},
   "source": [
    "# Data Cleaning and Feature Engineering"
   ]
  },
  {
   "cell_type": "code",
   "execution_count": 129,
   "metadata": {},
   "outputs": [
    {
     "data": {
      "text/plain": [
       "\n",
       "Apr-2008 Apr-2009 Apr-2010 Apr-2011 Apr-2012 Apr-2013 Apr-2014 Apr-2015 \n",
       "     259      333      912     1416     3055     5767     7357     4541 \n",
       "Aug-2007 Aug-2008 Aug-2009 Aug-2010 Aug-2011 Aug-2012 Aug-2013 Aug-2014 \n",
       "      74      100      446     1175     1772     5092     6685     5848 \n",
       "Aug-2015 Dec-2007 Dec-2008 Dec-2009 Dec-2010 Dec-2011 Dec-2012 Dec-2013 \n",
       "    1996      172      253      658     1328     1995     5508     7055 \n",
       "Dec-2014 Dec-2015 Feb-2008 Feb-2009 Feb-2010 Feb-2011 Feb-2012 Feb-2013 \n",
       "    2174      612      306      302      682     1195     2417     4720 \n",
       "Feb-2014 Feb-2015 Jan-2008 Jan-2009 Jan-2010 Jan-2011 Jan-2012 Jan-2013 \n",
       "    6273     3887      305      269      662     1324     2443     5605 \n",
       "Jan-2014 Jan-2015 Jul-2007 Jul-2008 Jul-2009 Jul-2010 Jul-2011 Jul-2012 \n",
       "    6972     6896       63      141      411     1204     1723     4357 \n",
       "Jul-2013 Jul-2014 Jul-2015 Jun-2007 Jun-2008 Jun-2009 Jun-2010 Jun-2011 \n",
       "    6451     9605     3420       24      124      406     1105     1709 \n",
       "Jun-2012 Jun-2013 Jun-2014 Jun-2015 Mar-2008 Mar-2009 Mar-2010 Mar-2011 \n",
       "    3594     6261     6015     2738      402      324      828     1306 \n",
       "Mar-2012 Mar-2013 Mar-2014 Mar-2015 May-2008 May-2009 May-2010 May-2011 \n",
       "    2751     5108     6692     3744      115      359      989     1488 \n",
       "May-2012 May-2013 May-2014 May-2015 Nov-2007 Nov-2008 Nov-2009 Nov-2010 \n",
       "    3187     6124     7052     3641      112      209      662     1224 \n",
       "Nov-2011 Nov-2012 Nov-2013 Nov-2014 Nov-2015 Oct-2007 Oct-2008 Oct-2009 \n",
       "    2034     5930     7042     5832      820      105      122      604 \n",
       "Oct-2010 Oct-2011 Oct-2012 Oct-2013 Oct-2014 Oct-2015 Sep-2007 Sep-2008 \n",
       "    1232     1918     5876     7011    10148     1423       53       57 \n",
       "Sep-2009 Sep-2010 Sep-2011 Sep-2012 Sep-2013 Sep-2014 Sep-2015 \n",
       "     507     1189     1888     5713     6662     3102     1363 "
      ]
     },
     "metadata": {},
     "output_type": "display_data"
    }
   ],
   "source": [
    "table(default_paid$issue_d)"
   ]
  },
  {
   "cell_type": "code",
   "execution_count": 130,
   "metadata": {},
   "outputs": [],
   "source": [
    "library(zoo)"
   ]
  },
  {
   "cell_type": "code",
   "execution_count": 131,
   "metadata": {},
   "outputs": [],
   "source": [
    "default_paid$issue_d_1 <- as.Date(as.yearmon(default_paid$issue_d, \"%b-%Y\"))"
   ]
  },
  {
   "cell_type": "code",
   "execution_count": 132,
   "metadata": {},
   "outputs": [],
   "source": [
    "default_paid$issue_d_y <- as.numeric(format(default_paid$issue_d_1, \"%Y\"))"
   ]
  },
  {
   "cell_type": "code",
   "execution_count": 133,
   "metadata": {},
   "outputs": [],
   "source": [
    "training = default_paid %>%filter(issue_d_y == 2015)"
   ]
  },
  {
   "cell_type": "code",
   "execution_count": 134,
   "metadata": {},
   "outputs": [],
   "source": [
    "testing = default_paid %>%filter(issue_d_y != 2015)"
   ]
  },
  {
   "cell_type": "code",
   "execution_count": 135,
   "metadata": {},
   "outputs": [
    {
     "data": {
      "text/plain": [
       "\n",
       "       Charged Off            Default         Fully Paid    In Grace Period \n",
       "        0.07904564         0.01103161         0.65516946         0.08856646 \n",
       " Late (16-30 days) Late (31-120 days) \n",
       "        0.03246772         0.13371911 "
      ]
     },
     "metadata": {},
     "output_type": "display_data"
    }
   ],
   "source": [
    "table(training$loan_status)/dim(training)[1]"
   ]
  },
  {
   "cell_type": "code",
   "execution_count": 136,
   "metadata": {},
   "outputs": [
    {
     "data": {
      "text/plain": [
       "\n",
       "       Charged Off            Default         Fully Paid    In Grace Period \n",
       "       0.178617610        0.003437179        0.771411102        0.012996831 \n",
       " Late (16-30 days) Late (31-120 days) \n",
       "       0.005031831        0.028505447 "
      ]
     },
     "metadata": {},
     "output_type": "display_data"
    }
   ],
   "source": [
    "table(testing$loan_status)/dim(testing)[1]"
   ]
  },
  {
   "cell_type": "markdown",
   "metadata": {},
   "source": [
    "### 1.addr_state"
   ]
  },
  {
   "cell_type": "code",
   "execution_count": 137,
   "metadata": {
    "scrolled": true
   },
   "outputs": [
    {
     "name": "stderr",
     "output_type": "stream",
     "text": [
      "Joining, by = \"addr_state\"\n"
     ]
    }
   ],
   "source": [
    "g1 = default_paid %>% filter(loan_status_1 == \"default\") %>% group_by(addr_state) %>% summarise(default_count = n())\n",
    "g2 = default_paid %>% group_by(addr_state) %>% summarise(count = n())\n",
    "g3 = g2 %>% left_join(g1) %>% mutate(default_rate = 100*default_count/count) %>% select(addr_state,count,default_count,default_rate)"
   ]
  },
  {
   "cell_type": "code",
   "execution_count": 138,
   "metadata": {},
   "outputs": [
    {
     "data": {
      "text/html": [
       "<table>\n",
       "<thead><tr><th scope=col>addr_state</th><th scope=col>count</th><th scope=col>default_count</th><th scope=col>default_rate</th></tr></thead>\n",
       "<tbody>\n",
       "\t<tr><td>NE       </td><td>   61    </td><td>   24    </td><td>39.344262</td></tr>\n",
       "\t<tr><td>MS       </td><td>  539    </td><td>  201    </td><td>37.291280</td></tr>\n",
       "\t<tr><td>ND       </td><td>   12    </td><td>    4    </td><td>33.333333</td></tr>\n",
       "\t<tr><td>TN       </td><td> 2797    </td><td>  923    </td><td>32.999642</td></tr>\n",
       "\t<tr><td>IN       </td><td> 3138    </td><td>  961    </td><td>30.624602</td></tr>\n",
       "\t<tr><td>AL       </td><td> 3502    </td><td>  993    </td><td>28.355226</td></tr>\n",
       "\t<tr><td>NV       </td><td> 4192    </td><td> 1173    </td><td>27.981870</td></tr>\n",
       "\t<tr><td>OK       </td><td> 2389    </td><td>  665    </td><td>27.835915</td></tr>\n",
       "\t<tr><td>FL       </td><td>19329    </td><td> 5148    </td><td>26.633556</td></tr>\n",
       "\t<tr><td>NY       </td><td>23694    </td><td> 6289    </td><td>26.542585</td></tr>\n",
       "\t<tr><td>NM       </td><td> 1522    </td><td>  402    </td><td>26.412615</td></tr>\n",
       "\t<tr><td>AR       </td><td> 1933    </td><td>  507    </td><td>26.228660</td></tr>\n",
       "\t<tr><td>LA       </td><td> 3261    </td><td>  855    </td><td>26.218951</td></tr>\n",
       "\t<tr><td>HI       </td><td> 1634    </td><td>  427    </td><td>26.132191</td></tr>\n",
       "\t<tr><td>MI       </td><td> 6616    </td><td> 1715    </td><td>25.922007</td></tr>\n",
       "\t<tr><td>NC       </td><td> 7613    </td><td> 1971    </td><td>25.889925</td></tr>\n",
       "\t<tr><td>PA       </td><td> 9329    </td><td> 2398    </td><td>25.704792</td></tr>\n",
       "\t<tr><td>NJ       </td><td>10549    </td><td> 2682    </td><td>25.424211</td></tr>\n",
       "\t<tr><td>MD       </td><td> 6637    </td><td> 1683    </td><td>25.357842</td></tr>\n",
       "\t<tr><td>OH       </td><td> 8486    </td><td> 2135    </td><td>25.159086</td></tr>\n",
       "\t<tr><td>MO       </td><td> 4310    </td><td> 1084    </td><td>25.150812</td></tr>\n",
       "\t<tr><td>DE       </td><td>  753    </td><td>  189    </td><td>25.099602</td></tr>\n",
       "\t<tr><td>VA       </td><td> 8734    </td><td> 2167    </td><td>24.811083</td></tr>\n",
       "\t<tr><td>KY       </td><td> 2458    </td><td>  604    </td><td>24.572823</td></tr>\n",
       "\t<tr><td>RI       </td><td> 1195    </td><td>  292    </td><td>24.435146</td></tr>\n",
       "\t<tr><td>MN       </td><td> 4865    </td><td> 1183    </td><td>24.316547</td></tr>\n",
       "\t<tr><td>AZ       </td><td> 6642    </td><td> 1581    </td><td>23.803071</td></tr>\n",
       "\t<tr><td>SD       </td><td>  597    </td><td>  141    </td><td>23.618090</td></tr>\n",
       "\t<tr><td>GA       </td><td> 8784    </td><td> 2061    </td><td>23.463115</td></tr>\n",
       "\t<tr><td>WI       </td><td> 3363    </td><td>  779    </td><td>23.163842</td></tr>\n",
       "\t<tr><td>IA       </td><td>   13    </td><td>    3    </td><td>23.076923</td></tr>\n",
       "\t<tr><td>CT       </td><td> 4039    </td><td>  922    </td><td>22.827433</td></tr>\n",
       "\t<tr><td>MA       </td><td> 6715    </td><td> 1523    </td><td>22.680566</td></tr>\n",
       "\t<tr><td>CA       </td><td>46519    </td><td>10518    </td><td>22.610116</td></tr>\n",
       "\t<tr><td>TX       </td><td>21193    </td><td> 4759    </td><td>22.455528</td></tr>\n",
       "\t<tr><td>IL       </td><td>10080    </td><td> 2258    </td><td>22.400794</td></tr>\n",
       "\t<tr><td>UT       </td><td> 2284    </td><td>  507    </td><td>22.197898</td></tr>\n",
       "\t<tr><td>SC       </td><td> 3060    </td><td>  678    </td><td>22.156863</td></tr>\n",
       "\t<tr><td>WA       </td><td> 6367    </td><td> 1408    </td><td>22.114025</td></tr>\n",
       "\t<tr><td>KS       </td><td> 2239    </td><td>  491    </td><td>21.929433</td></tr>\n",
       "\t<tr><td>OR       </td><td> 3596    </td><td>  776    </td><td>21.579533</td></tr>\n",
       "\t<tr><td>VT       </td><td>  458    </td><td>   98    </td><td>21.397380</td></tr>\n",
       "\t<tr><td>WV       </td><td> 1250    </td><td>  264    </td><td>21.120000</td></tr>\n",
       "\t<tr><td>AK       </td><td>  722    </td><td>  151    </td><td>20.914127</td></tr>\n",
       "\t<tr><td>MT       </td><td>  813    </td><td>  167    </td><td>20.541205</td></tr>\n",
       "\t<tr><td>NH       </td><td> 1250    </td><td>  245    </td><td>19.600000</td></tr>\n",
       "\t<tr><td>CO       </td><td> 6068    </td><td> 1187    </td><td>19.561635</td></tr>\n",
       "\t<tr><td>WY       </td><td>  641    </td><td>  117    </td><td>18.252730</td></tr>\n",
       "\t<tr><td>DC       </td><td>  876    </td><td>  118    </td><td>13.470320</td></tr>\n",
       "\t<tr><td>ID       </td><td>    9    </td><td>    1    </td><td>11.111111</td></tr>\n",
       "\t<tr><td>ME       </td><td>   14    </td><td>    1    </td><td> 7.142857</td></tr>\n",
       "</tbody>\n",
       "</table>\n"
      ],
      "text/latex": [
       "\\begin{tabular}{r|llll}\n",
       " addr\\_state & count & default\\_count & default\\_rate\\\\\n",
       "\\hline\n",
       "\t NE        &    61     &    24     & 39.344262\\\\\n",
       "\t MS        &   539     &   201     & 37.291280\\\\\n",
       "\t ND        &    12     &     4     & 33.333333\\\\\n",
       "\t TN        &  2797     &   923     & 32.999642\\\\\n",
       "\t IN        &  3138     &   961     & 30.624602\\\\\n",
       "\t AL        &  3502     &   993     & 28.355226\\\\\n",
       "\t NV        &  4192     &  1173     & 27.981870\\\\\n",
       "\t OK        &  2389     &   665     & 27.835915\\\\\n",
       "\t FL        & 19329     &  5148     & 26.633556\\\\\n",
       "\t NY        & 23694     &  6289     & 26.542585\\\\\n",
       "\t NM        &  1522     &   402     & 26.412615\\\\\n",
       "\t AR        &  1933     &   507     & 26.228660\\\\\n",
       "\t LA        &  3261     &   855     & 26.218951\\\\\n",
       "\t HI        &  1634     &   427     & 26.132191\\\\\n",
       "\t MI        &  6616     &  1715     & 25.922007\\\\\n",
       "\t NC        &  7613     &  1971     & 25.889925\\\\\n",
       "\t PA        &  9329     &  2398     & 25.704792\\\\\n",
       "\t NJ        & 10549     &  2682     & 25.424211\\\\\n",
       "\t MD        &  6637     &  1683     & 25.357842\\\\\n",
       "\t OH        &  8486     &  2135     & 25.159086\\\\\n",
       "\t MO        &  4310     &  1084     & 25.150812\\\\\n",
       "\t DE        &   753     &   189     & 25.099602\\\\\n",
       "\t VA        &  8734     &  2167     & 24.811083\\\\\n",
       "\t KY        &  2458     &   604     & 24.572823\\\\\n",
       "\t RI        &  1195     &   292     & 24.435146\\\\\n",
       "\t MN        &  4865     &  1183     & 24.316547\\\\\n",
       "\t AZ        &  6642     &  1581     & 23.803071\\\\\n",
       "\t SD        &   597     &   141     & 23.618090\\\\\n",
       "\t GA        &  8784     &  2061     & 23.463115\\\\\n",
       "\t WI        &  3363     &   779     & 23.163842\\\\\n",
       "\t IA        &    13     &     3     & 23.076923\\\\\n",
       "\t CT        &  4039     &   922     & 22.827433\\\\\n",
       "\t MA        &  6715     &  1523     & 22.680566\\\\\n",
       "\t CA        & 46519     & 10518     & 22.610116\\\\\n",
       "\t TX        & 21193     &  4759     & 22.455528\\\\\n",
       "\t IL        & 10080     &  2258     & 22.400794\\\\\n",
       "\t UT        &  2284     &   507     & 22.197898\\\\\n",
       "\t SC        &  3060     &   678     & 22.156863\\\\\n",
       "\t WA        &  6367     &  1408     & 22.114025\\\\\n",
       "\t KS        &  2239     &   491     & 21.929433\\\\\n",
       "\t OR        &  3596     &   776     & 21.579533\\\\\n",
       "\t VT        &   458     &    98     & 21.397380\\\\\n",
       "\t WV        &  1250     &   264     & 21.120000\\\\\n",
       "\t AK        &   722     &   151     & 20.914127\\\\\n",
       "\t MT        &   813     &   167     & 20.541205\\\\\n",
       "\t NH        &  1250     &   245     & 19.600000\\\\\n",
       "\t CO        &  6068     &  1187     & 19.561635\\\\\n",
       "\t WY        &   641     &   117     & 18.252730\\\\\n",
       "\t DC        &   876     &   118     & 13.470320\\\\\n",
       "\t ID        &     9     &     1     & 11.111111\\\\\n",
       "\t ME        &    14     &     1     &  7.142857\\\\\n",
       "\\end{tabular}\n"
      ],
      "text/markdown": [
       "\n",
       "addr_state | count | default_count | default_rate | \n",
       "|---|---|---|---|---|---|---|---|---|---|---|---|---|---|---|---|---|---|---|---|---|---|---|---|---|---|---|---|---|---|---|---|---|---|---|---|---|---|---|---|---|---|---|---|---|---|---|---|---|---|---|\n",
       "| NE        |    61     |    24     | 39.344262 | \n",
       "| MS        |   539     |   201     | 37.291280 | \n",
       "| ND        |    12     |     4     | 33.333333 | \n",
       "| TN        |  2797     |   923     | 32.999642 | \n",
       "| IN        |  3138     |   961     | 30.624602 | \n",
       "| AL        |  3502     |   993     | 28.355226 | \n",
       "| NV        |  4192     |  1173     | 27.981870 | \n",
       "| OK        |  2389     |   665     | 27.835915 | \n",
       "| FL        | 19329     |  5148     | 26.633556 | \n",
       "| NY        | 23694     |  6289     | 26.542585 | \n",
       "| NM        |  1522     |   402     | 26.412615 | \n",
       "| AR        |  1933     |   507     | 26.228660 | \n",
       "| LA        |  3261     |   855     | 26.218951 | \n",
       "| HI        |  1634     |   427     | 26.132191 | \n",
       "| MI        |  6616     |  1715     | 25.922007 | \n",
       "| NC        |  7613     |  1971     | 25.889925 | \n",
       "| PA        |  9329     |  2398     | 25.704792 | \n",
       "| NJ        | 10549     |  2682     | 25.424211 | \n",
       "| MD        |  6637     |  1683     | 25.357842 | \n",
       "| OH        |  8486     |  2135     | 25.159086 | \n",
       "| MO        |  4310     |  1084     | 25.150812 | \n",
       "| DE        |   753     |   189     | 25.099602 | \n",
       "| VA        |  8734     |  2167     | 24.811083 | \n",
       "| KY        |  2458     |   604     | 24.572823 | \n",
       "| RI        |  1195     |   292     | 24.435146 | \n",
       "| MN        |  4865     |  1183     | 24.316547 | \n",
       "| AZ        |  6642     |  1581     | 23.803071 | \n",
       "| SD        |   597     |   141     | 23.618090 | \n",
       "| GA        |  8784     |  2061     | 23.463115 | \n",
       "| WI        |  3363     |   779     | 23.163842 | \n",
       "| IA        |    13     |     3     | 23.076923 | \n",
       "| CT        |  4039     |   922     | 22.827433 | \n",
       "| MA        |  6715     |  1523     | 22.680566 | \n",
       "| CA        | 46519     | 10518     | 22.610116 | \n",
       "| TX        | 21193     |  4759     | 22.455528 | \n",
       "| IL        | 10080     |  2258     | 22.400794 | \n",
       "| UT        |  2284     |   507     | 22.197898 | \n",
       "| SC        |  3060     |   678     | 22.156863 | \n",
       "| WA        |  6367     |  1408     | 22.114025 | \n",
       "| KS        |  2239     |   491     | 21.929433 | \n",
       "| OR        |  3596     |   776     | 21.579533 | \n",
       "| VT        |   458     |    98     | 21.397380 | \n",
       "| WV        |  1250     |   264     | 21.120000 | \n",
       "| AK        |   722     |   151     | 20.914127 | \n",
       "| MT        |   813     |   167     | 20.541205 | \n",
       "| NH        |  1250     |   245     | 19.600000 | \n",
       "| CO        |  6068     |  1187     | 19.561635 | \n",
       "| WY        |   641     |   117     | 18.252730 | \n",
       "| DC        |   876     |   118     | 13.470320 | \n",
       "| ID        |     9     |     1     | 11.111111 | \n",
       "| ME        |    14     |     1     |  7.142857 | \n",
       "\n",
       "\n"
      ],
      "text/plain": [
       "   addr_state count default_count default_rate\n",
       "1  NE            61    24         39.344262   \n",
       "2  MS           539   201         37.291280   \n",
       "3  ND            12     4         33.333333   \n",
       "4  TN          2797   923         32.999642   \n",
       "5  IN          3138   961         30.624602   \n",
       "6  AL          3502   993         28.355226   \n",
       "7  NV          4192  1173         27.981870   \n",
       "8  OK          2389   665         27.835915   \n",
       "9  FL         19329  5148         26.633556   \n",
       "10 NY         23694  6289         26.542585   \n",
       "11 NM          1522   402         26.412615   \n",
       "12 AR          1933   507         26.228660   \n",
       "13 LA          3261   855         26.218951   \n",
       "14 HI          1634   427         26.132191   \n",
       "15 MI          6616  1715         25.922007   \n",
       "16 NC          7613  1971         25.889925   \n",
       "17 PA          9329  2398         25.704792   \n",
       "18 NJ         10549  2682         25.424211   \n",
       "19 MD          6637  1683         25.357842   \n",
       "20 OH          8486  2135         25.159086   \n",
       "21 MO          4310  1084         25.150812   \n",
       "22 DE           753   189         25.099602   \n",
       "23 VA          8734  2167         24.811083   \n",
       "24 KY          2458   604         24.572823   \n",
       "25 RI          1195   292         24.435146   \n",
       "26 MN          4865  1183         24.316547   \n",
       "27 AZ          6642  1581         23.803071   \n",
       "28 SD           597   141         23.618090   \n",
       "29 GA          8784  2061         23.463115   \n",
       "30 WI          3363   779         23.163842   \n",
       "31 IA            13     3         23.076923   \n",
       "32 CT          4039   922         22.827433   \n",
       "33 MA          6715  1523         22.680566   \n",
       "34 CA         46519 10518         22.610116   \n",
       "35 TX         21193  4759         22.455528   \n",
       "36 IL         10080  2258         22.400794   \n",
       "37 UT          2284   507         22.197898   \n",
       "38 SC          3060   678         22.156863   \n",
       "39 WA          6367  1408         22.114025   \n",
       "40 KS          2239   491         21.929433   \n",
       "41 OR          3596   776         21.579533   \n",
       "42 VT           458    98         21.397380   \n",
       "43 WV          1250   264         21.120000   \n",
       "44 AK           722   151         20.914127   \n",
       "45 MT           813   167         20.541205   \n",
       "46 NH          1250   245         19.600000   \n",
       "47 CO          6068  1187         19.561635   \n",
       "48 WY           641   117         18.252730   \n",
       "49 DC           876   118         13.470320   \n",
       "50 ID             9     1         11.111111   \n",
       "51 ME            14     1          7.142857   "
      ]
     },
     "metadata": {},
     "output_type": "display_data"
    }
   ],
   "source": [
    "g3[order(-g3$default_rate),]"
   ]
  },
  {
   "cell_type": "code",
   "execution_count": 139,
   "metadata": {},
   "outputs": [],
   "source": [
    "library(choroplethr)\n",
    "library(choroplethrMaps)"
   ]
  },
  {
   "cell_type": "code",
   "execution_count": 140,
   "metadata": {},
   "outputs": [],
   "source": [
    "state.default_rate.df = data.frame(region = g3$addr_state, value = g3$default_rate)"
   ]
  },
  {
   "cell_type": "code",
   "execution_count": 141,
   "metadata": {},
   "outputs": [],
   "source": [
    "full.name = c()\n",
    "for(i in 1:51)\n",
    "{\n",
    "    if(i==8){\n",
    "        full.name <- append(full.name, \"district of columbia\")\n",
    "    }else{\n",
    "        full.name <- append(full.name, tolower(state.name[state.default_rate.df[i,1] == state.abb]))\n",
    "    }\n",
    "}\n",
    "\n",
    "state.default_rate.df$region = full.name"
   ]
  },
  {
   "cell_type": "code",
   "execution_count": 142,
   "metadata": {},
   "outputs": [
    {
     "data": {},
     "metadata": {},
     "output_type": "display_data"
    },
    {
     "data": {
      "image/png": "[encoded data removed]",
      "text/plain": [
       "plot without title"
      ]
     },
     "metadata": {},
     "output_type": "display_data"
    }
   ],
   "source": [
    "options(repr.plot.width=16, repr.plot.height=8)\n",
    "state_choropleth(state.default_rate.df)"
   ]
  },
  {
   "cell_type": "code",
   "execution_count": 143,
   "metadata": {},
   "outputs": [
    {
     "data": {
      "text/html": [
       "<dl class=dl-horizontal>\n",
       "\t<dt>0%</dt>\n",
       "\t\t<dd>7.14285714285714</dd>\n",
       "\t<dt>25%</dt>\n",
       "\t\t<dd>22.135444094396</dd>\n",
       "\t<dt>50%</dt>\n",
       "\t\t<dd>24.3165467625899</dd>\n",
       "\t<dt>75%</dt>\n",
       "\t\t<dd>26.1755710922114</dd>\n",
       "\t<dt>100%</dt>\n",
       "\t\t<dd>39.344262295082</dd>\n",
       "</dl>\n"
      ],
      "text/latex": [
       "\\begin{description*}\n",
       "\\item[0\\textbackslash{}\\%] 7.14285714285714\n",
       "\\item[25\\textbackslash{}\\%] 22.135444094396\n",
       "\\item[50\\textbackslash{}\\%] 24.3165467625899\n",
       "\\item[75\\textbackslash{}\\%] 26.1755710922114\n",
       "\\item[100\\textbackslash{}\\%] 39.344262295082\n",
       "\\end{description*}\n"
      ],
      "text/markdown": [
       "0%\n",
       ":   7.1428571428571425%\n",
       ":   22.13544409439650%\n",
       ":   24.316546762589975%\n",
       ":   26.1755710922114100%\n",
       ":   39.344262295082\n",
       "\n"
      ],
      "text/plain": [
       "       0%       25%       50%       75%      100% \n",
       " 7.142857 22.135444 24.316547 26.175571 39.344262 "
      ]
     },
     "metadata": {},
     "output_type": "display_data"
    }
   ],
   "source": [
    "quantile(g3$default_rate)"
   ]
  },
  {
   "cell_type": "code",
   "execution_count": 144,
   "metadata": {},
   "outputs": [],
   "source": [
    "#collapsing\n",
    "default_paid$state_default <- \n",
    "  ifelse(default_paid$addr_state %in% g3$addr_state[which(g3$default_rate <= 24.41)],'low',\n",
    "  ifelse(default_paid$addr_state %in% g3$addr_state[which(g3$default_rate <= 26.70)],'low_medium', \n",
    "  ifelse(default_paid$addr_state %in% g3$addr_state[which(g3$default_rate <= 28.57)],'medium_high','high')))"
   ]
  },
  {
   "cell_type": "code",
   "execution_count": 145,
   "metadata": {},
   "outputs": [
    {
     "data": {
      "text/plain": [
       "\n",
       "       high         low  low_medium medium_high \n",
       "       6547      142457      118053       10083 "
      ]
     },
     "metadata": {},
     "output_type": "display_data"
    }
   ],
   "source": [
    "table(default_paid$state_default)"
   ]
  },
  {
   "cell_type": "code",
   "execution_count": 146,
   "metadata": {},
   "outputs": [
    {
     "data": {
      "text/plain": [
       "\n",
       "Call:\n",
       "lm(formula = loan_status_2 ~ state_default, data = default_paid)\n",
       "\n",
       "Residuals:\n",
       "   Min     1Q Median     3Q    Max \n",
       "     0      0      0      0      0 \n",
       "\n",
       "Coefficients:\n",
       "                         Estimate Std. Error t value Pr(>|t|)\n",
       "(Intercept)                     0          0      NA       NA\n",
       "state_defaultlow                0          0      NA       NA\n",
       "state_defaultlow_medium         0          0      NA       NA\n",
       "state_defaultmedium_high        0          0      NA       NA\n",
       "\n",
       "Residual standard error: 0 on 277136 degrees of freedom\n",
       "Multiple R-squared:    NaN,\tAdjusted R-squared:    NaN \n",
       "F-statistic:   NaN on 3 and 277136 DF,  p-value: NA\n"
      ]
     },
     "metadata": {},
     "output_type": "display_data"
    }
   ],
   "source": [
    "summary(lm(loan_status_2 ~ state_default, default_paid))"
   ]
  },
  {
   "cell_type": "code",
   "execution_count": 147,
   "metadata": {},
   "outputs": [
    {
     "name": "stderr",
     "output_type": "stream",
     "text": [
      "Warning message:\n",
      "\"glm.fit: algorithm did not converge\""
     ]
    }
   ],
   "source": [
    "mylogit <- glm(loan_status_2 ~ state_default, data = default_paid, family = \"binomial\")"
   ]
  },
  {
   "cell_type": "code",
   "execution_count": 148,
   "metadata": {},
   "outputs": [
    {
     "data": {
      "text/plain": [
       "\n",
       "Call:\n",
       "glm(formula = loan_status_2 ~ state_default, family = \"binomial\", \n",
       "    data = default_paid)\n",
       "\n",
       "Deviance Residuals: \n",
       "       Min          1Q      Median          3Q         Max  \n",
       "-2.409e-06  -2.409e-06  -2.409e-06  -2.409e-06  -2.409e-06  \n",
       "\n",
       "Coefficients:\n",
       "                           Estimate Std. Error z value Pr(>|z|)\n",
       "(Intercept)              -2.657e+01  4.401e+03  -0.006    0.995\n",
       "state_defaultlow          1.928e-13  4.501e+03   0.000    1.000\n",
       "state_defaultlow_medium  -5.634e-21  4.522e+03   0.000    1.000\n",
       "state_defaultmedium_high -5.574e-21  5.652e+03   0.000    1.000\n",
       "\n",
       "(Dispersion parameter for binomial family taken to be 1)\n",
       "\n",
       "    Null deviance: 0.0000e+00  on 277139  degrees of freedom\n",
       "Residual deviance: 1.6079e-06  on 277136  degrees of freedom\n",
       "AIC: 8\n",
       "\n",
       "Number of Fisher Scoring iterations: 25\n"
      ]
     },
     "metadata": {},
     "output_type": "display_data"
    }
   ],
   "source": [
    "summary(mylogit)"
   ]
  },
  {
   "cell_type": "markdown",
   "metadata": {},
   "source": [
    "### 2.emp_length"
   ]
  },
  {
   "cell_type": "code",
   "execution_count": 149,
   "metadata": {},
   "outputs": [
    {
     "data": {},
     "metadata": {},
     "output_type": "display_data"
    },
    {
     "data": {
      "image/png": "[encoded data removed]",
      "text/plain": [
       "plot without title"
      ]
     },
     "metadata": {},
     "output_type": "display_data"
    }
   ],
   "source": [
    "ggplot(data = default_paid) + geom_bar(mapping = aes(x = emp_length, fill = loan_status))"
   ]
  },
  {
   "cell_type": "code",
   "execution_count": 150,
   "metadata": {},
   "outputs": [
    {
     "data": {},
     "metadata": {},
     "output_type": "display_data"
    },
    {
     "data": {
      "image/png": "[encoded data removed]",
      "text/plain": [
       "plot without title"
      ]
     },
     "metadata": {},
     "output_type": "display_data"
    }
   ],
   "source": [
    "ggplot(data = default_paid) + geom_bar(mapping = aes(x = emp_length, fill = loan_status_1))"
   ]
  },
  {
   "cell_type": "code",
   "execution_count": 151,
   "metadata": {},
   "outputs": [
    {
     "name": "stderr",
     "output_type": "stream",
     "text": [
      "Joining, by = \"emp_length\"\n"
     ]
    }
   ],
   "source": [
    "emp1 = default_paid %>% filter(loan_status_1 == \"default\") %>% group_by(emp_length) %>% summarise(default_count = n())\n",
    "emp2 = default_paid %>% group_by(emp_length) %>% summarise(count = n())\n",
    "emp3 = emp2 %>% left_join(emp1) %>% mutate(default_rate = 100*default_count/count) %>% select(emp_length,count,default_count,default_rate)"
   ]
  },
  {
   "cell_type": "code",
   "execution_count": 152,
   "metadata": {},
   "outputs": [
    {
     "data": {
      "text/html": [
       "<table>\n",
       "<thead><tr><th scope=col>emp_length</th><th scope=col>count</th><th scope=col>default_count</th><th scope=col>default_rate</th></tr></thead>\n",
       "<tbody>\n",
       "\t<tr><td>n/a      </td><td>11101    </td><td> 3710    </td><td>33.42041 </td></tr>\n",
       "\t<tr><td>9 years  </td><td>10518    </td><td> 2667    </td><td>25.35653 </td></tr>\n",
       "\t<tr><td>&lt; 1 year </td><td>23210       </td><td> 5815       </td><td>25.05386    </td></tr>\n",
       "\t<tr><td>8 years  </td><td>13028    </td><td> 3258    </td><td>25.00768 </td></tr>\n",
       "\t<tr><td>7 years  </td><td>15281    </td><td> 3730    </td><td>24.40940 </td></tr>\n",
       "\t<tr><td>1 year   </td><td>18643    </td><td> 4494    </td><td>24.10556 </td></tr>\n",
       "\t<tr><td>3 years  </td><td>22436    </td><td> 5396    </td><td>24.05063 </td></tr>\n",
       "\t<tr><td>6 years  </td><td>15999    </td><td> 3840    </td><td>24.00150 </td></tr>\n",
       "\t<tr><td>10+ years</td><td>83918    </td><td>19856    </td><td>23.66119 </td></tr>\n",
       "\t<tr><td>2 years  </td><td>25828    </td><td> 6034    </td><td>23.36224 </td></tr>\n",
       "\t<tr><td>5 years  </td><td>19518    </td><td> 4540    </td><td>23.26058 </td></tr>\n",
       "\t<tr><td>4 years  </td><td>17660    </td><td> 4089    </td><td>23.15402 </td></tr>\n",
       "</tbody>\n",
       "</table>\n"
      ],
      "text/latex": [
       "\\begin{tabular}{r|llll}\n",
       " emp\\_length & count & default\\_count & default\\_rate\\\\\n",
       "\\hline\n",
       "\t n/a       & 11101     &  3710     & 33.42041 \\\\\n",
       "\t 9 years   & 10518     &  2667     & 25.35653 \\\\\n",
       "\t < 1 year  & 23210     &  5815     & 25.05386 \\\\\n",
       "\t 8 years   & 13028     &  3258     & 25.00768 \\\\\n",
       "\t 7 years   & 15281     &  3730     & 24.40940 \\\\\n",
       "\t 1 year    & 18643     &  4494     & 24.10556 \\\\\n",
       "\t 3 years   & 22436     &  5396     & 24.05063 \\\\\n",
       "\t 6 years   & 15999     &  3840     & 24.00150 \\\\\n",
       "\t 10+ years & 83918     & 19856     & 23.66119 \\\\\n",
       "\t 2 years   & 25828     &  6034     & 23.36224 \\\\\n",
       "\t 5 years   & 19518     &  4540     & 23.26058 \\\\\n",
       "\t 4 years   & 17660     &  4089     & 23.15402 \\\\\n",
       "\\end{tabular}\n"
      ],
      "text/markdown": [
       "\n",
       "emp_length | count | default_count | default_rate | \n",
       "|---|---|---|---|---|---|---|---|---|---|---|---|\n",
       "| n/a       | 11101     |  3710     | 33.42041  | \n",
       "| 9 years   | 10518     |  2667     | 25.35653  | \n",
       "| < 1 year  | 23210     |  5815     | 25.05386  | \n",
       "| 8 years   | 13028     |  3258     | 25.00768  | \n",
       "| 7 years   | 15281     |  3730     | 24.40940  | \n",
       "| 1 year    | 18643     |  4494     | 24.10556  | \n",
       "| 3 years   | 22436     |  5396     | 24.05063  | \n",
       "| 6 years   | 15999     |  3840     | 24.00150  | \n",
       "| 10+ years | 83918     | 19856     | 23.66119  | \n",
       "| 2 years   | 25828     |  6034     | 23.36224  | \n",
       "| 5 years   | 19518     |  4540     | 23.26058  | \n",
       "| 4 years   | 17660     |  4089     | 23.15402  | \n",
       "\n",
       "\n"
      ],
      "text/plain": [
       "   emp_length count default_count default_rate\n",
       "1  n/a        11101  3710         33.42041    \n",
       "2  9 years    10518  2667         25.35653    \n",
       "3  < 1 year   23210  5815         25.05386    \n",
       "4  8 years    13028  3258         25.00768    \n",
       "5  7 years    15281  3730         24.40940    \n",
       "6  1 year     18643  4494         24.10556    \n",
       "7  3 years    22436  5396         24.05063    \n",
       "8  6 years    15999  3840         24.00150    \n",
       "9  10+ years  83918 19856         23.66119    \n",
       "10 2 years    25828  6034         23.36224    \n",
       "11 5 years    19518  4540         23.26058    \n",
       "12 4 years    17660  4089         23.15402    "
      ]
     },
     "metadata": {},
     "output_type": "display_data"
    }
   ],
   "source": [
    "emp3[with(emp3, order(-default_rate)), ]"
   ]
  },
  {
   "cell_type": "code",
   "execution_count": 278,
   "metadata": {},
   "outputs": [],
   "source": [
    "#check independence between employ length and default"
   ]
  },
  {
   "cell_type": "code",
   "execution_count": 153,
   "metadata": {},
   "outputs": [
    {
     "data": {
      "text/plain": [
       "\n",
       "\tPearson's Chi-squared test\n",
       "\n",
       "data:  emp_length and loan_status_1\n",
       "X-squared = 575.51, df = 11, p-value < 2.2e-16\n"
      ]
     },
     "metadata": {},
     "output_type": "display_data"
    }
   ],
   "source": [
    "with(default_paid, chisq.test(emp_length, loan_status_1))"
   ]
  },
  {
   "cell_type": "markdown",
   "metadata": {},
   "source": [
    "### 3.home_ownership"
   ]
  },
  {
   "cell_type": "code",
   "execution_count": 154,
   "metadata": {},
   "outputs": [
    {
     "data": {
      "text/plain": [
       "\n",
       "     ANY MORTGAGE     NONE    OTHER      OWN     RENT \n",
       "       1   135573       48      179    24391   116948 "
      ]
     },
     "metadata": {},
     "output_type": "display_data"
    }
   ],
   "source": [
    "table(default_paid$home_ownership)"
   ]
  },
  {
   "cell_type": "code",
   "execution_count": 155,
   "metadata": {},
   "outputs": [],
   "source": [
    "default_paid$home_ownership = ifelse(default_paid$home_ownership %in% c('ANY','NONE','OTHER'),'OTHER',default_paid$home_ownership)"
   ]
  },
  {
   "cell_type": "code",
   "execution_count": 156,
   "metadata": {},
   "outputs": [
    {
     "data": {
      "text/plain": [
       "\n",
       "MORTGAGE    OTHER      OWN     RENT \n",
       "  135573      228    24391   116948 "
      ]
     },
     "metadata": {},
     "output_type": "display_data"
    }
   ],
   "source": [
    "table(default_paid$home_ownership)"
   ]
  },
  {
   "cell_type": "code",
   "execution_count": 157,
   "metadata": {},
   "outputs": [
    {
     "data": {},
     "metadata": {},
     "output_type": "display_data"
    },
    {
     "data": {
      "image/png": "[encoded data removed]",
      "text/plain": [
       "plot without title"
      ]
     },
     "metadata": {},
     "output_type": "display_data"
    }
   ],
   "source": [
    "ggplot(data = default_paid) + geom_bar(mapping = aes(x = home_ownership, fill = loan_status))"
   ]
  },
  {
   "cell_type": "code",
   "execution_count": 158,
   "metadata": {},
   "outputs": [
    {
     "data": {},
     "metadata": {},
     "output_type": "display_data"
    },
    {
     "data": {
      "image/png": "[encoded data removed]",
      "text/plain": [
       "plot without title"
      ]
     },
     "metadata": {},
     "output_type": "display_data"
    }
   ],
   "source": [
    "ggplot(data = default_paid) + geom_bar(mapping = aes(x = home_ownership, fill = loan_status_1))"
   ]
  },
  {
   "cell_type": "code",
   "execution_count": 159,
   "metadata": {},
   "outputs": [
    {
     "name": "stderr",
     "output_type": "stream",
     "text": [
      "Joining, by = \"home_ownership\"\n"
     ]
    }
   ],
   "source": [
    "own1 = default_paid %>% filter(loan_status_1 == \"default\") %>% group_by(home_ownership) %>% summarise(default_count = n())\n",
    "own2 = default_paid %>% group_by(home_ownership) %>% summarise(count = n())\n",
    "own3 = own2 %>% left_join(own1) %>% mutate(default_rate = 100*default_count/count) %>% select(home_ownership,count,default_count,default_rate)"
   ]
  },
  {
   "cell_type": "code",
   "execution_count": 160,
   "metadata": {},
   "outputs": [
    {
     "data": {
      "text/html": [
       "<table>\n",
       "<thead><tr><th scope=col>home_ownership</th><th scope=col>count</th><th scope=col>default_count</th><th scope=col>default_rate</th></tr></thead>\n",
       "<tbody>\n",
       "\t<tr><td>MORTGAGE</td><td>135573  </td><td>29699   </td><td>21.90628</td></tr>\n",
       "\t<tr><td>OTHER   </td><td>   228  </td><td>   46   </td><td>20.17544</td></tr>\n",
       "\t<tr><td>OWN     </td><td> 24391  </td><td> 6293   </td><td>25.80050</td></tr>\n",
       "\t<tr><td>RENT    </td><td>116948  </td><td>31391   </td><td>26.84184</td></tr>\n",
       "</tbody>\n",
       "</table>\n"
      ],
      "text/latex": [
       "\\begin{tabular}{r|llll}\n",
       " home\\_ownership & count & default\\_count & default\\_rate\\\\\n",
       "\\hline\n",
       "\t MORTGAGE & 135573   & 29699    & 21.90628\\\\\n",
       "\t OTHER    &    228   &    46    & 20.17544\\\\\n",
       "\t OWN      &  24391   &  6293    & 25.80050\\\\\n",
       "\t RENT     & 116948   & 31391    & 26.84184\\\\\n",
       "\\end{tabular}\n"
      ],
      "text/markdown": [
       "\n",
       "home_ownership | count | default_count | default_rate | \n",
       "|---|---|---|---|\n",
       "| MORTGAGE | 135573   | 29699    | 21.90628 | \n",
       "| OTHER    |    228   |    46    | 20.17544 | \n",
       "| OWN      |  24391   |  6293    | 25.80050 | \n",
       "| RENT     | 116948   | 31391    | 26.84184 | \n",
       "\n",
       "\n"
      ],
      "text/plain": [
       "  home_ownership count  default_count default_rate\n",
       "1 MORTGAGE       135573 29699         21.90628    \n",
       "2 OTHER             228    46         20.17544    \n",
       "3 OWN             24391  6293         25.80050    \n",
       "4 RENT           116948 31391         26.84184    "
      ]
     },
     "metadata": {},
     "output_type": "display_data"
    }
   ],
   "source": [
    "own3"
   ]
  },
  {
   "cell_type": "markdown",
   "metadata": {},
   "source": [
    "### 4.member_id"
   ]
  },
  {
   "cell_type": "markdown",
   "metadata": {},
   "source": [
    "drop member_id"
   ]
  },
  {
   "cell_type": "code",
   "execution_count": 161,
   "metadata": {},
   "outputs": [],
   "source": [
    "default_paid$member_id = NULL"
   ]
  },
  {
   "cell_type": "markdown",
   "metadata": {},
   "source": [
    "### 5.zip_code"
   ]
  },
  {
   "cell_type": "markdown",
   "metadata": {},
   "source": [
    "too many levels--> drop"
   ]
  },
  {
   "cell_type": "code",
   "execution_count": 162,
   "metadata": {},
   "outputs": [],
   "source": [
    "default_paid$zip_code = NULL"
   ]
  },
  {
   "cell_type": "markdown",
   "metadata": {},
   "source": [
    "### 6.annual_inc"
   ]
  },
  {
   "cell_type": "code",
   "execution_count": 163,
   "metadata": {},
   "outputs": [
    {
     "data": {
      "text/html": [
       "4"
      ],
      "text/latex": [
       "4"
      ],
      "text/markdown": [
       "4"
      ],
      "text/plain": [
       "[1] 4"
      ]
     },
     "metadata": {},
     "output_type": "display_data"
    }
   ],
   "source": [
    "sum(is.na(default_paid$annual_inc))"
   ]
  },
  {
   "cell_type": "code",
   "execution_count": 164,
   "metadata": {},
   "outputs": [],
   "source": [
    "#impute missing value using meadian\n",
    "default_paid$annual_inc[is.na(default_paid$annual_inc)] = median(default_paid$annual_inc,na.rm = T)"
   ]
  },
  {
   "cell_type": "code",
   "execution_count": 165,
   "metadata": {},
   "outputs": [
    {
     "data": {
      "text/html": [
       "0"
      ],
      "text/latex": [
       "0"
      ],
      "text/markdown": [
       "0"
      ],
      "text/plain": [
       "[1] 0"
      ]
     },
     "metadata": {},
     "output_type": "display_data"
    }
   ],
   "source": [
    "sum(is.na(default_paid$annual_inc))"
   ]
  },
  {
   "cell_type": "code",
   "execution_count": 166,
   "metadata": {},
   "outputs": [
    {
     "data": {
      "text/html": [
       "<dl class=dl-horizontal>\n",
       "\t<dt>0%</dt>\n",
       "\t\t<dd>1896</dd>\n",
       "\t<dt>25%</dt>\n",
       "\t\t<dd>45000</dd>\n",
       "\t<dt>50%</dt>\n",
       "\t\t<dd>62000</dd>\n",
       "\t<dt>75%</dt>\n",
       "\t\t<dd>87000</dd>\n",
       "\t<dt>100%</dt>\n",
       "\t\t<dd>8900060</dd>\n",
       "</dl>\n"
      ],
      "text/latex": [
       "\\begin{description*}\n",
       "\\item[0\\textbackslash{}\\%] 1896\n",
       "\\item[25\\textbackslash{}\\%] 45000\n",
       "\\item[50\\textbackslash{}\\%] 62000\n",
       "\\item[75\\textbackslash{}\\%] 87000\n",
       "\\item[100\\textbackslash{}\\%] 8900060\n",
       "\\end{description*}\n"
      ],
      "text/markdown": [
       "0%\n",
       ":   189625%\n",
       ":   4500050%\n",
       ":   6200075%\n",
       ":   87000100%\n",
       ":   8900060\n",
       "\n"
      ],
      "text/plain": [
       "     0%     25%     50%     75%    100% \n",
       "   1896   45000   62000   87000 8900060 "
      ]
     },
     "metadata": {},
     "output_type": "display_data"
    }
   ],
   "source": [
    "quantile(default_paid$annual_inc)"
   ]
  },
  {
   "cell_type": "code",
   "execution_count": 167,
   "metadata": {},
   "outputs": [
    {
     "data": {
      "image/png": "[encoded data removed]",
      "text/plain": [
       "plot without title"
      ]
     },
     "metadata": {},
     "output_type": "display_data"
    }
   ],
   "source": [
    "boxplot(default_paid$annual_inc~default_paid$loan_status_1)"
   ]
  },
  {
   "cell_type": "code",
   "execution_count": 101,
   "metadata": {},
   "outputs": [
    {
     "data": {},
     "metadata": {},
     "output_type": "display_data"
    },
    {
     "data": {
      "image/png": "[encoded data removed]",
      "text/plain": [
       "plot without title"
      ]
     },
     "metadata": {},
     "output_type": "display_data"
    }
   ],
   "source": [
    "options(repr.plot.width=4, repr.plot.height=4)\n",
    "ggplot(default_paid, aes(x=factor(loan_status_1), y=annual_inc)) + \n",
    "geom_jitter(alpha=0.3, color='lightgrey') +\n",
    "geom_boxplot(color='steelblue') "
   ]
  },
  {
   "cell_type": "code",
   "execution_count": 168,
   "metadata": {},
   "outputs": [],
   "source": [
    "#test: is there significant difference mean between paid and default group"
   ]
  },
  {
   "cell_type": "code",
   "execution_count": 169,
   "metadata": {},
   "outputs": [
    {
     "data": {
      "text/plain": [
       "\n",
       "\tWelch Two Sample t-test\n",
       "\n",
       "data:  annual_inc by loan_status_1\n",
       "t = -24.255, df = 106010, p-value < 2.2e-16\n",
       "alternative hypothesis: true difference in means is not equal to 0\n",
       "95 percent confidence interval:\n",
       " -7368.714 -6266.839\n",
       "sample estimates:\n",
       "mean in group default    mean in group paid \n",
       "             67324.67              74142.45 \n"
      ]
     },
     "metadata": {},
     "output_type": "display_data"
    }
   ],
   "source": [
    "t.test(annual_inc ~ loan_status_1, data = default_paid)"
   ]
  },
  {
   "cell_type": "markdown",
   "metadata": {},
   "source": [
    "### dti"
   ]
  },
  {
   "cell_type": "code",
   "execution_count": 170,
   "metadata": {},
   "outputs": [
    {
     "data": {
      "text/html": [
       "<dl class=dl-horizontal>\n",
       "\t<dt>0%</dt>\n",
       "\t\t<dd>0</dd>\n",
       "\t<dt>25%</dt>\n",
       "\t\t<dd>10.9</dd>\n",
       "\t<dt>50%</dt>\n",
       "\t\t<dd>16.42</dd>\n",
       "\t<dt>75%</dt>\n",
       "\t\t<dd>22.27</dd>\n",
       "\t<dt>100%</dt>\n",
       "\t\t<dd>59.26</dd>\n",
       "</dl>\n"
      ],
      "text/latex": [
       "\\begin{description*}\n",
       "\\item[0\\textbackslash{}\\%] 0\n",
       "\\item[25\\textbackslash{}\\%] 10.9\n",
       "\\item[50\\textbackslash{}\\%] 16.42\n",
       "\\item[75\\textbackslash{}\\%] 22.27\n",
       "\\item[100\\textbackslash{}\\%] 59.26\n",
       "\\end{description*}\n"
      ],
      "text/markdown": [
       "0%\n",
       ":   025%\n",
       ":   10.950%\n",
       ":   16.4275%\n",
       ":   22.27100%\n",
       ":   59.26\n",
       "\n"
      ],
      "text/plain": [
       "   0%   25%   50%   75%  100% \n",
       " 0.00 10.90 16.42 22.27 59.26 "
      ]
     },
     "metadata": {},
     "output_type": "display_data"
    }
   ],
   "source": [
    "quantile(default_paid$dti)"
   ]
  },
  {
   "cell_type": "code",
   "execution_count": 171,
   "metadata": {},
   "outputs": [
    {
     "data": {
      "image/png": "[encoded data removed]",
      "text/plain": [
       "plot without title"
      ]
     },
     "metadata": {},
     "output_type": "display_data"
    }
   ],
   "source": [
    "boxplot(default_paid$dti~default_paid$loan_status_1)"
   ]
  },
  {
   "cell_type": "markdown",
   "metadata": {},
   "source": [
    "### earliest_cr_line"
   ]
  },
  {
   "cell_type": "markdown",
   "metadata": {},
   "source": [
    "Transform earliest _cr_line into year"
   ]
  },
  {
   "cell_type": "code",
   "execution_count": 105,
   "metadata": {},
   "outputs": [
    {
     "data": {
      "text/html": [
       "<ol class=list-inline>\n",
       "\t<li>'Jan-1985'</li>\n",
       "\t<li>'Apr-1999'</li>\n",
       "\t<li>'Nov-2001'</li>\n",
       "\t<li>'Feb-1996'</li>\n",
       "\t<li>'Nov-2004'</li>\n",
       "\t<li>'Jan-2007'</li>\n",
       "</ol>\n"
      ],
      "text/latex": [
       "\\begin{enumerate*}\n",
       "\\item 'Jan-1985'\n",
       "\\item 'Apr-1999'\n",
       "\\item 'Nov-2001'\n",
       "\\item 'Feb-1996'\n",
       "\\item 'Nov-2004'\n",
       "\\item 'Jan-2007'\n",
       "\\end{enumerate*}\n"
      ],
      "text/markdown": [
       "1. 'Jan-1985'\n",
       "2. 'Apr-1999'\n",
       "3. 'Nov-2001'\n",
       "4. 'Feb-1996'\n",
       "5. 'Nov-2004'\n",
       "6. 'Jan-2007'\n",
       "\n",
       "\n"
      ],
      "text/plain": [
       "[1] \"Jan-1985\" \"Apr-1999\" \"Nov-2001\" \"Feb-1996\" \"Nov-2004\" \"Jan-2007\""
      ]
     },
     "metadata": {},
     "output_type": "display_data"
    }
   ],
   "source": [
    "head(default_paid$earliest_cr_line)"
   ]
  },
  {
   "cell_type": "code",
   "execution_count": 172,
   "metadata": {},
   "outputs": [],
   "source": [
    "default_paid$earliest_cr_line <- as.Date(as.yearmon(default_paid$earliest_cr_line, \"%b-%Y\"))"
   ]
  },
  {
   "cell_type": "code",
   "execution_count": 173,
   "metadata": {},
   "outputs": [
    {
     "data": {
      "text/html": [
       "<ol class=list-inline>\n",
       "\t<li><time datetime=\"1985-01-01\">1985-01-01</time></li>\n",
       "\t<li><time datetime=\"1999-04-01\">1999-04-01</time></li>\n",
       "\t<li><time datetime=\"2001-11-01\">2001-11-01</time></li>\n",
       "\t<li><time datetime=\"1996-02-01\">1996-02-01</time></li>\n",
       "\t<li><time datetime=\"2004-11-01\">2004-11-01</time></li>\n",
       "\t<li><time datetime=\"2007-01-01\">2007-01-01</time></li>\n",
       "</ol>\n"
      ],
      "text/latex": [
       "\\begin{enumerate*}\n",
       "\\item 1985-01-01\n",
       "\\item 1999-04-01\n",
       "\\item 2001-11-01\n",
       "\\item 1996-02-01\n",
       "\\item 2004-11-01\n",
       "\\item 2007-01-01\n",
       "\\end{enumerate*}\n"
      ],
      "text/markdown": [
       "1. 1985-01-01\n",
       "2. 1999-04-01\n",
       "3. 2001-11-01\n",
       "4. 1996-02-01\n",
       "5. 2004-11-01\n",
       "6. 2007-01-01\n",
       "\n",
       "\n"
      ],
      "text/plain": [
       "[1] \"1985-01-01\" \"1999-04-01\" \"2001-11-01\" \"1996-02-01\" \"2004-11-01\"\n",
       "[6] \"2007-01-01\""
      ]
     },
     "metadata": {},
     "output_type": "display_data"
    }
   ],
   "source": [
    "head(default_paid$earliest_cr_line)"
   ]
  },
  {
   "cell_type": "code",
   "execution_count": 174,
   "metadata": {},
   "outputs": [],
   "source": [
    "default_paid$earliest_cr_line_y <- as.numeric(format(default_paid$earliest_cr_line, \"%Y\"))"
   ]
  },
  {
   "cell_type": "code",
   "execution_count": 175,
   "metadata": {},
   "outputs": [
    {
     "data": {
      "text/html": [
       "<ol class=list-inline>\n",
       "\t<li>1985</li>\n",
       "\t<li>1999</li>\n",
       "\t<li>2001</li>\n",
       "\t<li>1996</li>\n",
       "\t<li>2004</li>\n",
       "\t<li>2007</li>\n",
       "</ol>\n"
      ],
      "text/latex": [
       "\\begin{enumerate*}\n",
       "\\item 1985\n",
       "\\item 1999\n",
       "\\item 2001\n",
       "\\item 1996\n",
       "\\item 2004\n",
       "\\item 2007\n",
       "\\end{enumerate*}\n"
      ],
      "text/markdown": [
       "1. 1985\n",
       "2. 1999\n",
       "3. 2001\n",
       "4. 1996\n",
       "5. 2004\n",
       "6. 2007\n",
       "\n",
       "\n"
      ],
      "text/plain": [
       "[1] 1985 1999 2001 1996 2004 2007"
      ]
     },
     "metadata": {},
     "output_type": "display_data"
    }
   ],
   "source": [
    "head(default_paid$earliest_cr_line_y)"
   ]
  },
  {
   "cell_type": "code",
   "execution_count": 176,
   "metadata": {},
   "outputs": [
    {
     "data": {
      "text/plain": [
       "                    \n",
       "                      1946  1948  1950  1954  1955  1956  1957  1958  1959\n",
       "  Charged Off            0     0     0     0     2     3     0     1     3\n",
       "  Default                0     0     0     0     0     0     0     1     0\n",
       "  Fully Paid             1     1     2     5     2     3     2     4     6\n",
       "  In Grace Period        0     0     0     0     0     1     0     0     0\n",
       "  Late (16-30 days)      0     0     0     0     0     0     0     0     0\n",
       "  Late (31-120 days)     0     0     0     0     0     0     0     0     2\n",
       "                    \n",
       "                      1960  1961  1962  1963  1964  1965  1966  1967  1968\n",
       "  Charged Off            4     2     7     9    13    17    18    38    19\n",
       "  Default                0     0     0     0     1     0     0     1     1\n",
       "  Fully Paid            13     9    22    33    25    37    54    81   101\n",
       "  In Grace Period        0     1     0     2     2     2     2     3     2\n",
       "  Late (16-30 days)      0     0     0     1     3     2     0     1     0\n",
       "  Late (31-120 days)     0     2     0     0     3     4     6     9     8\n",
       "                    \n",
       "                      1969  1970  1971  1972  1973  1974  1975  1976  1977\n",
       "  Charged Off           25    46    37    55    58    63    82    93   126\n",
       "  Default                0     1     0     2     0     2     1     2     4\n",
       "  Fully Paid           133   166   174   232   272   333   365   462   572\n",
       "  In Grace Period        4     2     3     7    12    11     8    16    28\n",
       "  Late (16-30 days)      1     0     2     1     2     5     5     4     5\n",
       "  Late (31-120 days)    16     9    15    10    11    17     9    25    30\n",
       "                    \n",
       "                      1978  1979  1980  1981  1982  1983  1984  1985  1986\n",
       "  Charged Off          161   165   150   148   235   325   402   461   484\n",
       "  Default                5     5     5     4    11     7    11     1    16\n",
       "  Fully Paid           780   779   817   919  1159  1614  1975  2187  2465\n",
       "  In Grace Period       27     9    22    26    35    42    53    48    74\n",
       "  Late (16-30 days)      8     8     7     8    19    24    20    27    30\n",
       "  Late (31-120 days)    35    33    33    43    59    81   109   116   125\n",
       "                    \n",
       "                      1987  1988  1989  1990  1991  1992  1993  1994  1995\n",
       "  Charged Off          559   687   851   919   873   954  1275  1736  1968\n",
       "  Default               15    14    17    26    13    16    38    44    45\n",
       "  Fully Paid          2950  3443  4171  4790  4529  4908  6829  8761  9709\n",
       "  In Grace Period       87    97   122   123   114   112   191   217   240\n",
       "  Late (16-30 days)     39    32    39    41    38    47    74    90    90\n",
       "  Late (31-120 days)   133   167   208   201   240   222   326   413   448\n",
       "                    \n",
       "                      1996  1997  1998  1999  2000  2001  2002  2003  2004\n",
       "  Charged Off         2171  2356  2768  3319  3710  3539  3009  2558  2327\n",
       "  Default               61    51    55    70    90    89    92    96    61\n",
       "  Fully Paid         10528 10776 13036 14923 16551 15740 13377 11579 10049\n",
       "  In Grace Period      253   242   294   397   452   488   433   378   394\n",
       "  Late (16-30 days)     91    96   123   153   142   151   150   145   154\n",
       "  Late (31-120 days)   509   491   604   718   787   823   796   740   738\n",
       "                    \n",
       "                      2005  2006  2007  2008  2009  2010  2011  2012\n",
       "  Charged Off         1967  1923  1540   867   459   299   114     6\n",
       "  Default               59    70    41    35    14    18     7     1\n",
       "  Fully Paid          8306  7500  5419  3122  1414   928   488    54\n",
       "  In Grace Period      327   287   185   142    85    73    61    17\n",
       "  Late (16-30 days)    123    97    94    61    37    42    20     5\n",
       "  Late (31-120 days)   523   500   421   293   186   157   113    24"
      ]
     },
     "metadata": {},
     "output_type": "display_data"
    }
   ],
   "source": [
    "table(default_paid$loan_status,default_paid$earliest_cr_line_y)"
   ]
  },
  {
   "cell_type": "code",
   "execution_count": 179,
   "metadata": {},
   "outputs": [
    {
     "name": "stderr",
     "output_type": "stream",
     "text": [
      "Warning message:\n",
      "\"Removed 29 rows containing non-finite values (stat_count).\""
     ]
    },
    {
     "data": {},
     "metadata": {},
     "output_type": "display_data"
    },
    {
     "data": {
      "image/png": "[encoded data removed]",
      "text/plain": [
       "plot without title"
      ]
     },
     "metadata": {},
     "output_type": "display_data"
    }
   ],
   "source": [
    "ggplot(data = default_paid) + geom_bar( mapping = aes(x = earliest_cr_line_y, fill = loan_status),position = \"dodge\")"
   ]
  },
  {
   "cell_type": "code",
   "execution_count": 180,
   "metadata": {},
   "outputs": [
    {
     "name": "stderr",
     "output_type": "stream",
     "text": [
      "Warning message:\n",
      "\"Removed 29 rows containing non-finite values (stat_count).\""
     ]
    },
    {
     "data": {},
     "metadata": {},
     "output_type": "display_data"
    },
    {
     "data": {
      "image/png": "[encoded data removed]",
      "text/plain": [
       "plot without title"
      ]
     },
     "metadata": {},
     "output_type": "display_data"
    }
   ],
   "source": [
    "ggplot(data = default_paid) + geom_bar( mapping = aes(x = earliest_cr_line_y, fill = loan_status_1),position = \"dodge\")"
   ]
  },
  {
   "cell_type": "markdown",
   "metadata": {},
   "source": [
    "### fico_range_high, fico_range_low,last_fico_range_high, last_fico_range_low"
   ]
  },
  {
   "cell_type": "code",
   "execution_count": 189,
   "metadata": {},
   "outputs": [
    {
     "data": {
      "text/plain": [
       "NULL"
      ]
     },
     "metadata": {},
     "output_type": "display_data"
    }
   ],
   "source": [
    "head(loanT$last_fico_range_low)"
   ]
  },
  {
   "cell_type": "code",
   "execution_count": 190,
   "metadata": {},
   "outputs": [],
   "source": [
    "# All are null in the original dataset. Ignore these four column"
   ]
  },
  {
   "cell_type": "markdown",
   "metadata": {},
   "source": [
    "### inq_last_6mths"
   ]
  },
  {
   "cell_type": "code",
   "execution_count": 193,
   "metadata": {},
   "outputs": [
    {
     "data": {
      "image/png": "[encoded data removed]",
      "text/plain": [
       "plot without title"
      ]
     },
     "metadata": {},
     "output_type": "display_data"
    }
   ],
   "source": [
    "boxplot(default_paid$inq_last_6mths~default_paid$loan_status_1)"
   ]
  },
  {
   "cell_type": "code",
   "execution_count": 209,
   "metadata": {},
   "outputs": [
    {
     "data": {
      "text/html": [
       "29"
      ],
      "text/latex": [
       "29"
      ],
      "text/markdown": [
       "29"
      ],
      "text/plain": [
       "[1] 29"
      ]
     },
     "metadata": {},
     "output_type": "display_data"
    }
   ],
   "source": [
    "sum(is.na(default_paid$inq_last_6mths))"
   ]
  },
  {
   "cell_type": "code",
   "execution_count": 210,
   "metadata": {},
   "outputs": [
    {
     "data": {
      "text/html": [
       "<ol class=list-inline>\n",
       "\t<li>&lt;NA&gt;</li>\n",
       "\t<li>&lt;NA&gt;</li>\n",
       "\t<li>&lt;NA&gt;</li>\n",
       "\t<li>&lt;NA&gt;</li>\n",
       "\t<li>&lt;NA&gt;</li>\n",
       "\t<li>&lt;NA&gt;</li>\n",
       "\t<li>&lt;NA&gt;</li>\n",
       "\t<li>&lt;NA&gt;</li>\n",
       "\t<li>&lt;NA&gt;</li>\n",
       "\t<li>&lt;NA&gt;</li>\n",
       "\t<li>&lt;NA&gt;</li>\n",
       "\t<li>&lt;NA&gt;</li>\n",
       "\t<li>&lt;NA&gt;</li>\n",
       "\t<li>&lt;NA&gt;</li>\n",
       "\t<li>&lt;NA&gt;</li>\n",
       "\t<li>&lt;NA&gt;</li>\n",
       "\t<li>&lt;NA&gt;</li>\n",
       "\t<li>&lt;NA&gt;</li>\n",
       "\t<li>&lt;NA&gt;</li>\n",
       "\t<li>&lt;NA&gt;</li>\n",
       "\t<li>&lt;NA&gt;</li>\n",
       "\t<li>&lt;NA&gt;</li>\n",
       "\t<li>&lt;NA&gt;</li>\n",
       "\t<li>&lt;NA&gt;</li>\n",
       "\t<li>&lt;NA&gt;</li>\n",
       "\t<li>&lt;NA&gt;</li>\n",
       "\t<li>&lt;NA&gt;</li>\n",
       "\t<li>&lt;NA&gt;</li>\n",
       "\t<li>&lt;NA&gt;</li>\n",
       "</ol>\n"
      ],
      "text/latex": [
       "\\begin{enumerate*}\n",
       "\\item <NA>\n",
       "\\item <NA>\n",
       "\\item <NA>\n",
       "\\item <NA>\n",
       "\\item <NA>\n",
       "\\item <NA>\n",
       "\\item <NA>\n",
       "\\item <NA>\n",
       "\\item <NA>\n",
       "\\item <NA>\n",
       "\\item <NA>\n",
       "\\item <NA>\n",
       "\\item <NA>\n",
       "\\item <NA>\n",
       "\\item <NA>\n",
       "\\item <NA>\n",
       "\\item <NA>\n",
       "\\item <NA>\n",
       "\\item <NA>\n",
       "\\item <NA>\n",
       "\\item <NA>\n",
       "\\item <NA>\n",
       "\\item <NA>\n",
       "\\item <NA>\n",
       "\\item <NA>\n",
       "\\item <NA>\n",
       "\\item <NA>\n",
       "\\item <NA>\n",
       "\\item <NA>\n",
       "\\end{enumerate*}\n"
      ],
      "text/markdown": [
       "1. &lt;NA&gt;\n",
       "2. &lt;NA&gt;\n",
       "3. &lt;NA&gt;\n",
       "4. &lt;NA&gt;\n",
       "5. &lt;NA&gt;\n",
       "6. &lt;NA&gt;\n",
       "7. &lt;NA&gt;\n",
       "8. &lt;NA&gt;\n",
       "9. &lt;NA&gt;\n",
       "10. &lt;NA&gt;\n",
       "11. &lt;NA&gt;\n",
       "12. &lt;NA&gt;\n",
       "13. &lt;NA&gt;\n",
       "14. &lt;NA&gt;\n",
       "15. &lt;NA&gt;\n",
       "16. &lt;NA&gt;\n",
       "17. &lt;NA&gt;\n",
       "18. &lt;NA&gt;\n",
       "19. &lt;NA&gt;\n",
       "20. &lt;NA&gt;\n",
       "21. &lt;NA&gt;\n",
       "22. &lt;NA&gt;\n",
       "23. &lt;NA&gt;\n",
       "24. &lt;NA&gt;\n",
       "25. &lt;NA&gt;\n",
       "26. &lt;NA&gt;\n",
       "27. &lt;NA&gt;\n",
       "28. &lt;NA&gt;\n",
       "29. &lt;NA&gt;\n",
       "\n",
       "\n"
      ],
      "text/plain": [
       " [1] NA NA NA NA NA NA NA NA NA NA NA NA NA NA NA NA NA NA NA NA NA NA NA NA NA\n",
       "[26] NA NA NA NA"
      ]
     },
     "metadata": {},
     "output_type": "display_data"
    }
   ],
   "source": [
    "#Impute missing value using median\n",
    "default_paid$inq_last_6mths[is.na(default_paid$inq_last_6mths)]"
   ]
  },
  {
   "cell_type": "markdown",
   "metadata": {},
   "source": [
    "### last_credit_pull_d"
   ]
  },
  {
   "cell_type": "code",
   "execution_count": 196,
   "metadata": {},
   "outputs": [],
   "source": [
    "#The most recent month LC pulled credit for this loan"
   ]
  },
  {
   "cell_type": "code",
   "execution_count": 195,
   "metadata": {},
   "outputs": [
    {
     "data": {
      "text/html": [
       "<ol class=list-inline>\n",
       "\t<li>'Jan-2016'</li>\n",
       "\t<li>'Sep-2013'</li>\n",
       "\t<li>'Jan-2016'</li>\n",
       "\t<li>'Jan-2015'</li>\n",
       "\t<li>'Sep-2015'</li>\n",
       "\t<li>'Dec-2014'</li>\n",
       "</ol>\n"
      ],
      "text/latex": [
       "\\begin{enumerate*}\n",
       "\\item 'Jan-2016'\n",
       "\\item 'Sep-2013'\n",
       "\\item 'Jan-2016'\n",
       "\\item 'Jan-2015'\n",
       "\\item 'Sep-2015'\n",
       "\\item 'Dec-2014'\n",
       "\\end{enumerate*}\n"
      ],
      "text/markdown": [
       "1. 'Jan-2016'\n",
       "2. 'Sep-2013'\n",
       "3. 'Jan-2016'\n",
       "4. 'Jan-2015'\n",
       "5. 'Sep-2015'\n",
       "6. 'Dec-2014'\n",
       "\n",
       "\n"
      ],
      "text/plain": [
       "[1] \"Jan-2016\" \"Sep-2013\" \"Jan-2016\" \"Jan-2015\" \"Sep-2015\" \"Dec-2014\""
      ]
     },
     "metadata": {},
     "output_type": "display_data"
    }
   ],
   "source": [
    "head(default_paid$last_credit_pull_d)"
   ]
  },
  {
   "cell_type": "code",
   "execution_count": 199,
   "metadata": {},
   "outputs": [],
   "source": [
    "#useless--> drop"
   ]
  },
  {
   "cell_type": "code",
   "execution_count": 200,
   "metadata": {},
   "outputs": [],
   "source": [
    "default_paid$last_credit_pull_d = NULL"
   ]
  },
  {
   "cell_type": "markdown",
   "metadata": {},
   "source": [
    "### total_acc"
   ]
  },
  {
   "cell_type": "code",
   "execution_count": 198,
   "metadata": {},
   "outputs": [
    {
     "data": {
      "text/html": [
       "<ol class=list-inline>\n",
       "\t<li>9</li>\n",
       "\t<li>4</li>\n",
       "\t<li>10</li>\n",
       "\t<li>37</li>\n",
       "\t<li>12</li>\n",
       "\t<li>4</li>\n",
       "</ol>\n"
      ],
      "text/latex": [
       "\\begin{enumerate*}\n",
       "\\item 9\n",
       "\\item 4\n",
       "\\item 10\n",
       "\\item 37\n",
       "\\item 12\n",
       "\\item 4\n",
       "\\end{enumerate*}\n"
      ],
      "text/markdown": [
       "1. 9\n",
       "2. 4\n",
       "3. 10\n",
       "4. 37\n",
       "5. 12\n",
       "6. 4\n",
       "\n",
       "\n"
      ],
      "text/plain": [
       "[1]  9  4 10 37 12  4"
      ]
     },
     "metadata": {},
     "output_type": "display_data"
    }
   ],
   "source": [
    "head(default_paid$total_acc)"
   ]
  },
  {
   "cell_type": "code",
   "execution_count": 201,
   "metadata": {},
   "outputs": [
    {
     "data": {
      "image/png": "[encoded data removed]",
      "text/plain": [
       "plot without title"
      ]
     },
     "metadata": {},
     "output_type": "display_data"
    }
   ],
   "source": [
    "boxplot(default_paid$total_acc~default_paid$loan_status_1)"
   ]
  },
  {
   "cell_type": "code",
   "execution_count": 202,
   "metadata": {},
   "outputs": [
    {
     "data": {
      "text/plain": [
       "\n",
       "\tWelch Two Sample t-test\n",
       "\n",
       "data:  total_acc by loan_status_1\n",
       "t = -12.867, df = 114480, p-value < 2.2e-16\n",
       "alternative hypothesis: true difference in means is not equal to 0\n",
       "95 percent confidence interval:\n",
       " -0.7725212 -0.5682874\n",
       "sample estimates:\n",
       "mean in group default    mean in group paid \n",
       "             24.52495              25.19535 \n"
      ]
     },
     "metadata": {},
     "output_type": "display_data"
    }
   ],
   "source": [
    "t.test(total_acc ~ loan_status_1, data = default_paid)"
   ]
  },
  {
   "cell_type": "code",
   "execution_count": 203,
   "metadata": {},
   "outputs": [
    {
     "name": "stderr",
     "output_type": "stream",
     "text": [
      "Warning message:\n",
      "\"Removed 29 rows containing non-finite values (stat_count).\""
     ]
    },
    {
     "data": {},
     "metadata": {},
     "output_type": "display_data"
    },
    {
     "data": {
      "image/png": "[encoded data removed]",
      "text/plain": [
       "plot without title"
      ]
     },
     "metadata": {},
     "output_type": "display_data"
    }
   ],
   "source": [
    "ggplot(data = default_paid) + geom_bar(mapping = aes(x = total_acc, fill = loan_status))"
   ]
  },
  {
   "cell_type": "code",
   "execution_count": 204,
   "metadata": {},
   "outputs": [
    {
     "name": "stderr",
     "output_type": "stream",
     "text": [
      "Warning message:\n",
      "\"Removed 29 rows containing non-finite values (stat_count).\""
     ]
    },
    {
     "data": {},
     "metadata": {},
     "output_type": "display_data"
    },
    {
     "data": {
      "image/png": "[encoded data removed]",
      "text/plain": [
       "plot without title"
      ]
     },
     "metadata": {},
     "output_type": "display_data"
    }
   ],
   "source": [
    "ggplot(data = default_paid) + geom_bar(mapping = aes(x = total_acc, fill = loan_status_1))"
   ]
  },
  {
   "cell_type": "code",
   "execution_count": 214,
   "metadata": {},
   "outputs": [
    {
     "data": {
      "text/html": [
       "29"
      ],
      "text/latex": [
       "29"
      ],
      "text/markdown": [
       "29"
      ],
      "text/plain": [
       "[1] 29"
      ]
     },
     "metadata": {},
     "output_type": "display_data"
    }
   ],
   "source": [
    "sum(is.na(default_paid$total_acc))"
   ]
  },
  {
   "cell_type": "code",
   "execution_count": 217,
   "metadata": {},
   "outputs": [],
   "source": [
    "#impute the missing value using median\n",
    "default_paid$total_acc[is.na(default_paid$total_acc)] = median(default_paid$total_acc,na.rm = T)"
   ]
  },
  {
   "cell_type": "markdown",
   "metadata": {},
   "source": [
    "### tot_cur_bal"
   ]
  },
  {
   "cell_type": "code",
   "execution_count": 206,
   "metadata": {},
   "outputs": [
    {
     "data": {
      "image/png": "[encoded data removed]",
      "text/plain": [
       "plot without title"
      ]
     },
     "metadata": {},
     "output_type": "display_data"
    }
   ],
   "source": [
    "boxplot(default_paid$tot_cur_bal~default_paid$loan_status_1)"
   ]
  },
  {
   "cell_type": "code",
   "execution_count": 207,
   "metadata": {},
   "outputs": [
    {
     "data": {
      "text/plain": [
       "\n",
       "\tWelch Two Sample t-test\n",
       "\n",
       "data:  tot_cur_bal by loan_status_1\n",
       "t = -37.433, df = 117400, p-value < 2.2e-16\n",
       "alternative hypothesis: true difference in means is not equal to 0\n",
       "95 percent confidence interval:\n",
       " -27132.24 -24432.35\n",
       "sample estimates:\n",
       "mean in group default    mean in group paid \n",
       "             118009.6              143791.9 \n"
      ]
     },
     "metadata": {},
     "output_type": "display_data"
    }
   ],
   "source": [
    "t.test(tot_cur_bal ~ loan_status_1, data = default_paid)"
   ]
  },
  {
   "cell_type": "code",
   "execution_count": 222,
   "metadata": {},
   "outputs": [
    {
     "data": {
      "text/html": [
       "66689"
      ],
      "text/latex": [
       "66689"
      ],
      "text/markdown": [
       "66689"
      ],
      "text/plain": [
       "[1] 66689"
      ]
     },
     "metadata": {},
     "output_type": "display_data"
    }
   ],
   "source": [
    "sum(is.na(default_paid$tot_cur_bal))"
   ]
  },
  {
   "cell_type": "code",
   "execution_count": 225,
   "metadata": {},
   "outputs": [
    {
     "data": {
      "text/html": [
       "<ol class=list-inline>\n",
       "\t<li>277140</li>\n",
       "\t<li>58</li>\n",
       "</ol>\n"
      ],
      "text/latex": [
       "\\begin{enumerate*}\n",
       "\\item 277140\n",
       "\\item 58\n",
       "\\end{enumerate*}\n"
      ],
      "text/markdown": [
       "1. 277140\n",
       "2. 58\n",
       "\n",
       "\n"
      ],
      "text/plain": [
       "[1] 277140     58"
      ]
     },
     "metadata": {},
     "output_type": "display_data"
    }
   ],
   "source": [
    "#how to impute this?about 1/5 missing of total rows\n",
    "dim(default_paid)"
   ]
  },
  {
   "cell_type": "markdown",
   "metadata": {},
   "source": [
    "### open_acc"
   ]
  },
  {
   "cell_type": "code",
   "execution_count": 226,
   "metadata": {},
   "outputs": [
    {
     "data": {
      "image/png": "[encoded data removed]",
      "text/plain": [
       "plot without title"
      ]
     },
     "metadata": {},
     "output_type": "display_data"
    }
   ],
   "source": [
    "boxplot(default_paid$open_acc~default_paid$loan_status_1)"
   ]
  },
  {
   "cell_type": "code",
   "execution_count": 227,
   "metadata": {},
   "outputs": [
    {
     "data": {
      "text/plain": [
       "\n",
       "\tWelch Two Sample t-test\n",
       "\n",
       "data:  open_acc by loan_status_1\n",
       "t = 15.244, df = 110270, p-value < 2.2e-16\n",
       "alternative hypothesis: true difference in means is not equal to 0\n",
       "95 percent confidence interval:\n",
       " 0.2966131 0.3841401\n",
       "sample estimates:\n",
       "mean in group default    mean in group paid \n",
       "             11.25069              10.91031 \n"
      ]
     },
     "metadata": {},
     "output_type": "display_data"
    }
   ],
   "source": [
    "t.test(open_acc ~ loan_status_1, data = default_paid)"
   ]
  },
  {
   "cell_type": "code",
   "execution_count": null,
   "metadata": {},
   "outputs": [],
   "source": [
    "sum(is.na(default_paid$open_acc))"
   ]
  },
  {
   "cell_type": "code",
   "execution_count": 228,
   "metadata": {},
   "outputs": [],
   "source": [
    "#impute missing value \n",
    "default_paid$open_acc[is.na(default_paid$open_acc)] = median(default_paid$open_acc,na.rm = T)"
   ]
  },
  {
   "cell_type": "markdown",
   "metadata": {},
   "source": [
    "### acc_now_delinq"
   ]
  },
  {
   "cell_type": "code",
   "execution_count": 230,
   "metadata": {},
   "outputs": [
    {
     "data": {
      "image/png": "[encoded data removed]",
      "text/plain": [
       "plot without title"
      ]
     },
     "metadata": {},
     "output_type": "display_data"
    }
   ],
   "source": [
    "boxplot(default_paid$acc_now_delinq~default_paid$loan_status_1)"
   ]
  },
  {
   "cell_type": "code",
   "execution_count": 229,
   "metadata": {},
   "outputs": [
    {
     "data": {
      "text/plain": [
       "\n",
       "\tWelch Two Sample t-test\n",
       "\n",
       "data:  acc_now_delinq by loan_status_1\n",
       "t = 6.2756, df = 92451, p-value = 3.498e-10\n",
       "alternative hypothesis: true difference in means is not equal to 0\n",
       "95 percent confidence interval:\n",
       " 0.001409933 0.002690607\n",
       "sample estimates:\n",
       "mean in group default    mean in group paid \n",
       "          0.004983241           0.002932971 \n"
      ]
     },
     "metadata": {},
     "output_type": "display_data"
    }
   ],
   "source": [
    "t.test(acc_now_delinq ~ loan_status_1, data = default_paid)"
   ]
  },
  {
   "cell_type": "code",
   "execution_count": null,
   "metadata": {},
   "outputs": [],
   "source": [
    "sum(is.na(default_paid$open_acc))"
   ]
  },
  {
   "cell_type": "code",
   "execution_count": 232,
   "metadata": {},
   "outputs": [],
   "source": [
    "#impute missing value \n",
    "default_paid$acc_now_delinq[is.na(default_paid$acc_now_delinq)] = median(default_paid$acc_now_delinq,na.rm = T)"
   ]
  },
  {
   "cell_type": "markdown",
   "metadata": {},
   "source": [
    "### delinq_2yrs"
   ]
  },
  {
   "cell_type": "code",
   "execution_count": 233,
   "metadata": {},
   "outputs": [
    {
     "data": {
      "image/png": "[encoded data removed]",
      "text/plain": [
       "plot without title"
      ]
     },
     "metadata": {},
     "output_type": "display_data"
    }
   ],
   "source": [
    "boxplot(default_paid$delinq_2yrs~default_paid$loan_status_1)"
   ]
  },
  {
   "cell_type": "code",
   "execution_count": null,
   "metadata": {},
   "outputs": [],
   "source": [
    "#imbalanced data "
   ]
  },
  {
   "cell_type": "code",
   "execution_count": 240,
   "metadata": {},
   "outputs": [
    {
     "data": {
      "text/plain": [
       "    Min.  1st Qu.   Median     Mean  3rd Qu.     Max. \n",
       "0.000000 0.000000 0.000000 0.003431 0.000000 5.000000 "
      ]
     },
     "metadata": {},
     "output_type": "display_data"
    }
   ],
   "source": [
    "summary(default_paid$acc_now_delinq)"
   ]
  },
  {
   "cell_type": "code",
   "execution_count": 241,
   "metadata": {},
   "outputs": [
    {
     "data": {
      "text/plain": [
       "   Min. 1st Qu.  Median    Mean 3rd Qu.    Max.    NA's \n",
       " 0.0000  0.0000  0.0000  0.2634  0.0000 29.0000      29 "
      ]
     },
     "metadata": {},
     "output_type": "display_data"
    }
   ],
   "source": [
    "summary(default_paid$delinq_2yrs)"
   ]
  },
  {
   "cell_type": "code",
   "execution_count": 239,
   "metadata": {},
   "outputs": [
    {
     "data": {
      "text/html": [
       "<table>\n",
       "<thead><tr><th></th><th scope=col>delinq_2yrs</th><th scope=col>acc_now_delinq</th></tr></thead>\n",
       "<tbody>\n",
       "\t<tr><th scope=row>42411</th><td> 1</td><td>1 </td></tr>\n",
       "\t<tr><th scope=row>42434</th><td> 1</td><td>1 </td></tr>\n",
       "\t<tr><th scope=row>42457</th><td> 1</td><td>1 </td></tr>\n",
       "\t<tr><th scope=row>42475</th><td>13</td><td>1 </td></tr>\n",
       "\t<tr><th scope=row>43820</th><td> 3</td><td>2 </td></tr>\n",
       "\t<tr><th scope=row>44707</th><td> 1</td><td>1 </td></tr>\n",
       "\t<tr><th scope=row>44949</th><td> 3</td><td>1 </td></tr>\n",
       "\t<tr><th scope=row>46173</th><td> 1</td><td>1 </td></tr>\n",
       "\t<tr><th scope=row>47072</th><td> 1</td><td>1 </td></tr>\n",
       "\t<tr><th scope=row>49205</th><td> 3</td><td>1 </td></tr>\n",
       "\t<tr><th scope=row>49231</th><td> 1</td><td>1 </td></tr>\n",
       "\t<tr><th scope=row>49232</th><td> 1</td><td>1 </td></tr>\n",
       "\t<tr><th scope=row>50073</th><td> 1</td><td>1 </td></tr>\n",
       "\t<tr><th scope=row>50565</th><td> 1</td><td>1 </td></tr>\n",
       "\t<tr><th scope=row>51737</th><td> 1</td><td>1 </td></tr>\n",
       "\t<tr><th scope=row>51776</th><td> 1</td><td>1 </td></tr>\n",
       "\t<tr><th scope=row>52384</th><td> 1</td><td>1 </td></tr>\n",
       "\t<tr><th scope=row>52565</th><td> 4</td><td>3 </td></tr>\n",
       "\t<tr><th scope=row>53122</th><td> 1</td><td>1 </td></tr>\n",
       "\t<tr><th scope=row>53488</th><td> 1</td><td>1 </td></tr>\n",
       "\t<tr><th scope=row>53747</th><td> 2</td><td>1 </td></tr>\n",
       "\t<tr><th scope=row>53981</th><td> 1</td><td>1 </td></tr>\n",
       "\t<tr><th scope=row>54082</th><td> 3</td><td>1 </td></tr>\n",
       "\t<tr><th scope=row>54129</th><td> 2</td><td>1 </td></tr>\n",
       "\t<tr><th scope=row>57232</th><td> 1</td><td>1 </td></tr>\n",
       "\t<tr><th scope=row>57517</th><td> 1</td><td>1 </td></tr>\n",
       "\t<tr><th scope=row>59274</th><td> 2</td><td>1 </td></tr>\n",
       "\t<tr><th scope=row>59502</th><td> 1</td><td>1 </td></tr>\n",
       "\t<tr><th scope=row>60981</th><td> 1</td><td>1 </td></tr>\n",
       "\t<tr><th scope=row>61125</th><td> 2</td><td>1 </td></tr>\n",
       "\t<tr><th scope=row>...</th><td>...</td><td>...</td></tr>\n",
       "\t<tr><th scope=row>864715</th><td>2</td><td>1</td></tr>\n",
       "\t<tr><th scope=row>865800</th><td>1</td><td>1</td></tr>\n",
       "\t<tr><th scope=row>865913</th><td>3</td><td>1</td></tr>\n",
       "\t<tr><th scope=row>867298</th><td>1</td><td>1</td></tr>\n",
       "\t<tr><th scope=row>867518</th><td>3</td><td>2</td></tr>\n",
       "\t<tr><th scope=row>868909</th><td>1</td><td>1</td></tr>\n",
       "\t<tr><th scope=row>869011</th><td>4</td><td>1</td></tr>\n",
       "\t<tr><th scope=row>870513</th><td>2</td><td>1</td></tr>\n",
       "\t<tr><th scope=row>871340</th><td>1</td><td>1</td></tr>\n",
       "\t<tr><th scope=row>872035</th><td>5</td><td>1</td></tr>\n",
       "\t<tr><th scope=row>873336</th><td>1</td><td>1</td></tr>\n",
       "\t<tr><th scope=row>874494</th><td>3</td><td>1</td></tr>\n",
       "\t<tr><th scope=row>875316</th><td>1</td><td>1</td></tr>\n",
       "\t<tr><th scope=row>876182</th><td>3</td><td>2</td></tr>\n",
       "\t<tr><th scope=row>876310</th><td>3</td><td>1</td></tr>\n",
       "\t<tr><th scope=row>877067</th><td>1</td><td>1</td></tr>\n",
       "\t<tr><th scope=row>878674</th><td>2</td><td>1</td></tr>\n",
       "\t<tr><th scope=row>880253</th><td>1</td><td>1</td></tr>\n",
       "\t<tr><th scope=row>880759</th><td>4</td><td>1</td></tr>\n",
       "\t<tr><th scope=row>880931</th><td>1</td><td>1</td></tr>\n",
       "\t<tr><th scope=row>881987</th><td>1</td><td>1</td></tr>\n",
       "\t<tr><th scope=row>882799</th><td>2</td><td>1</td></tr>\n",
       "\t<tr><th scope=row>882806</th><td>2</td><td>2</td></tr>\n",
       "\t<tr><th scope=row>883207</th><td>1</td><td>1</td></tr>\n",
       "\t<tr><th scope=row>884300</th><td>1</td><td>1</td></tr>\n",
       "\t<tr><th scope=row>884375</th><td>1</td><td>1</td></tr>\n",
       "\t<tr><th scope=row>885138</th><td>2</td><td>1</td></tr>\n",
       "\t<tr><th scope=row>885194</th><td>1</td><td>1</td></tr>\n",
       "\t<tr><th scope=row>886061</th><td>1</td><td>1</td></tr>\n",
       "\t<tr><th scope=row>886557</th><td>1</td><td>1</td></tr>\n",
       "</tbody>\n",
       "</table>\n"
      ],
      "text/latex": [
       "\\begin{tabular}{r|ll}\n",
       "  & delinq\\_2yrs & acc\\_now\\_delinq\\\\\n",
       "\\hline\n",
       "\t42411 &  1 & 1 \\\\\n",
       "\t42434 &  1 & 1 \\\\\n",
       "\t42457 &  1 & 1 \\\\\n",
       "\t42475 & 13 & 1 \\\\\n",
       "\t43820 &  3 & 2 \\\\\n",
       "\t44707 &  1 & 1 \\\\\n",
       "\t44949 &  3 & 1 \\\\\n",
       "\t46173 &  1 & 1 \\\\\n",
       "\t47072 &  1 & 1 \\\\\n",
       "\t49205 &  3 & 1 \\\\\n",
       "\t49231 &  1 & 1 \\\\\n",
       "\t49232 &  1 & 1 \\\\\n",
       "\t50073 &  1 & 1 \\\\\n",
       "\t50565 &  1 & 1 \\\\\n",
       "\t51737 &  1 & 1 \\\\\n",
       "\t51776 &  1 & 1 \\\\\n",
       "\t52384 &  1 & 1 \\\\\n",
       "\t52565 &  4 & 3 \\\\\n",
       "\t53122 &  1 & 1 \\\\\n",
       "\t53488 &  1 & 1 \\\\\n",
       "\t53747 &  2 & 1 \\\\\n",
       "\t53981 &  1 & 1 \\\\\n",
       "\t54082 &  3 & 1 \\\\\n",
       "\t54129 &  2 & 1 \\\\\n",
       "\t57232 &  1 & 1 \\\\\n",
       "\t57517 &  1 & 1 \\\\\n",
       "\t59274 &  2 & 1 \\\\\n",
       "\t59502 &  1 & 1 \\\\\n",
       "\t60981 &  1 & 1 \\\\\n",
       "\t61125 &  2 & 1 \\\\\n",
       "\t... & ... & ...\\\\\n",
       "\t864715 & 2 & 1\\\\\n",
       "\t865800 & 1 & 1\\\\\n",
       "\t865913 & 3 & 1\\\\\n",
       "\t867298 & 1 & 1\\\\\n",
       "\t867518 & 3 & 2\\\\\n",
       "\t868909 & 1 & 1\\\\\n",
       "\t869011 & 4 & 1\\\\\n",
       "\t870513 & 2 & 1\\\\\n",
       "\t871340 & 1 & 1\\\\\n",
       "\t872035 & 5 & 1\\\\\n",
       "\t873336 & 1 & 1\\\\\n",
       "\t874494 & 3 & 1\\\\\n",
       "\t875316 & 1 & 1\\\\\n",
       "\t876182 & 3 & 2\\\\\n",
       "\t876310 & 3 & 1\\\\\n",
       "\t877067 & 1 & 1\\\\\n",
       "\t878674 & 2 & 1\\\\\n",
       "\t880253 & 1 & 1\\\\\n",
       "\t880759 & 4 & 1\\\\\n",
       "\t880931 & 1 & 1\\\\\n",
       "\t881987 & 1 & 1\\\\\n",
       "\t882799 & 2 & 1\\\\\n",
       "\t882806 & 2 & 2\\\\\n",
       "\t883207 & 1 & 1\\\\\n",
       "\t884300 & 1 & 1\\\\\n",
       "\t884375 & 1 & 1\\\\\n",
       "\t885138 & 2 & 1\\\\\n",
       "\t885194 & 1 & 1\\\\\n",
       "\t886061 & 1 & 1\\\\\n",
       "\t886557 & 1 & 1\\\\\n",
       "\\end{tabular}\n"
      ],
      "text/markdown": [
       "\n",
       "| <!--/--> | delinq_2yrs | acc_now_delinq | \n",
       "|---|---|---|---|---|---|---|---|---|---|---|---|---|---|---|---|---|---|---|---|---|---|---|---|---|---|---|---|---|---|---|---|---|---|---|---|---|---|---|---|---|---|---|---|---|---|---|---|---|---|---|---|---|---|---|---|---|---|---|---|---|\n",
       "| 42411 |  1 | 1  | \n",
       "| 42434 |  1 | 1  | \n",
       "| 42457 |  1 | 1  | \n",
       "| 42475 | 13 | 1  | \n",
       "| 43820 |  3 | 2  | \n",
       "| 44707 |  1 | 1  | \n",
       "| 44949 |  3 | 1  | \n",
       "| 46173 |  1 | 1  | \n",
       "| 47072 |  1 | 1  | \n",
       "| 49205 |  3 | 1  | \n",
       "| 49231 |  1 | 1  | \n",
       "| 49232 |  1 | 1  | \n",
       "| 50073 |  1 | 1  | \n",
       "| 50565 |  1 | 1  | \n",
       "| 51737 |  1 | 1  | \n",
       "| 51776 |  1 | 1  | \n",
       "| 52384 |  1 | 1  | \n",
       "| 52565 |  4 | 3  | \n",
       "| 53122 |  1 | 1  | \n",
       "| 53488 |  1 | 1  | \n",
       "| 53747 |  2 | 1  | \n",
       "| 53981 |  1 | 1  | \n",
       "| 54082 |  3 | 1  | \n",
       "| 54129 |  2 | 1  | \n",
       "| 57232 |  1 | 1  | \n",
       "| 57517 |  1 | 1  | \n",
       "| 59274 |  2 | 1  | \n",
       "| 59502 |  1 | 1  | \n",
       "| 60981 |  1 | 1  | \n",
       "| 61125 |  2 | 1  | \n",
       "| ... | ... | ... | \n",
       "| 864715 | 2 | 1 | \n",
       "| 865800 | 1 | 1 | \n",
       "| 865913 | 3 | 1 | \n",
       "| 867298 | 1 | 1 | \n",
       "| 867518 | 3 | 2 | \n",
       "| 868909 | 1 | 1 | \n",
       "| 869011 | 4 | 1 | \n",
       "| 870513 | 2 | 1 | \n",
       "| 871340 | 1 | 1 | \n",
       "| 872035 | 5 | 1 | \n",
       "| 873336 | 1 | 1 | \n",
       "| 874494 | 3 | 1 | \n",
       "| 875316 | 1 | 1 | \n",
       "| 876182 | 3 | 2 | \n",
       "| 876310 | 3 | 1 | \n",
       "| 877067 | 1 | 1 | \n",
       "| 878674 | 2 | 1 | \n",
       "| 880253 | 1 | 1 | \n",
       "| 880759 | 4 | 1 | \n",
       "| 880931 | 1 | 1 | \n",
       "| 881987 | 1 | 1 | \n",
       "| 882799 | 2 | 1 | \n",
       "| 882806 | 2 | 2 | \n",
       "| 883207 | 1 | 1 | \n",
       "| 884300 | 1 | 1 | \n",
       "| 884375 | 1 | 1 | \n",
       "| 885138 | 2 | 1 | \n",
       "| 885194 | 1 | 1 | \n",
       "| 886061 | 1 | 1 | \n",
       "| 886557 | 1 | 1 | \n",
       "\n",
       "\n"
      ],
      "text/plain": [
       "       delinq_2yrs acc_now_delinq\n",
       "42411   1          1             \n",
       "42434   1          1             \n",
       "42457   1          1             \n",
       "42475  13          1             \n",
       "43820   3          2             \n",
       "44707   1          1             \n",
       "44949   3          1             \n",
       "46173   1          1             \n",
       "47072   1          1             \n",
       "49205   3          1             \n",
       "49231   1          1             \n",
       "49232   1          1             \n",
       "50073   1          1             \n",
       "50565   1          1             \n",
       "51737   1          1             \n",
       "51776   1          1             \n",
       "52384   1          1             \n",
       "52565   4          3             \n",
       "53122   1          1             \n",
       "53488   1          1             \n",
       "53747   2          1             \n",
       "53981   1          1             \n",
       "54082   3          1             \n",
       "54129   2          1             \n",
       "57232   1          1             \n",
       "57517   1          1             \n",
       "59274   2          1             \n",
       "59502   1          1             \n",
       "60981   1          1             \n",
       "61125   2          1             \n",
       "...    ...         ...           \n",
       "864715 2           1             \n",
       "865800 1           1             \n",
       "865913 3           1             \n",
       "867298 1           1             \n",
       "867518 3           2             \n",
       "868909 1           1             \n",
       "869011 4           1             \n",
       "870513 2           1             \n",
       "871340 1           1             \n",
       "872035 5           1             \n",
       "873336 1           1             \n",
       "874494 3           1             \n",
       "875316 1           1             \n",
       "876182 3           2             \n",
       "876310 3           1             \n",
       "877067 1           1             \n",
       "878674 2           1             \n",
       "880253 1           1             \n",
       "880759 4           1             \n",
       "880931 1           1             \n",
       "881987 1           1             \n",
       "882799 2           1             \n",
       "882806 2           2             \n",
       "883207 1           1             \n",
       "884300 1           1             \n",
       "884375 1           1             \n",
       "885138 2           1             \n",
       "885194 1           1             \n",
       "886061 1           1             \n",
       "886557 1           1             "
      ]
     },
     "metadata": {},
     "output_type": "display_data"
    }
   ],
   "source": [
    "default_paid[default_paid$acc_now_delinq != 0,c('delinq_2yrs','acc_now_delinq')]"
   ]
  },
  {
   "cell_type": "code",
   "execution_count": 242,
   "metadata": {},
   "outputs": [],
   "source": [
    "#the number of delinq_2yrs include acc_now_delinq\n",
    "#might need just keep one from acc_now_delinq or delinq_2yrs"
   ]
  },
  {
   "cell_type": "code",
   "execution_count": 243,
   "metadata": {},
   "outputs": [
    {
     "data": {
      "text/html": [
       "29"
      ],
      "text/latex": [
       "29"
      ],
      "text/markdown": [
       "29"
      ],
      "text/plain": [
       "[1] 29"
      ]
     },
     "metadata": {},
     "output_type": "display_data"
    }
   ],
   "source": [
    "sum(is.na(default_paid$delinq_2yrs))"
   ]
  },
  {
   "cell_type": "code",
   "execution_count": 244,
   "metadata": {},
   "outputs": [],
   "source": [
    "default_paid$delinq_2yrs[is.na(default_paid$delinq_2yrs)] = median(default_paid$delinq_2yrs,na.rm = T)"
   ]
  },
  {
   "cell_type": "code",
   "execution_count": null,
   "metadata": {},
   "outputs": [],
   "source": []
  },
  {
   "cell_type": "markdown",
   "metadata": {},
   "source": [
    "### collections_12_mths_ex_med"
   ]
  },
  {
   "cell_type": "code",
   "execution_count": 247,
   "metadata": {},
   "outputs": [
    {
     "data": {
      "text/plain": [
       "   Min. 1st Qu.  Median    Mean 3rd Qu.    Max.    NA's \n",
       "0.00000 0.00000 0.00000 0.00754 0.00000 6.00000     145 "
      ]
     },
     "metadata": {},
     "output_type": "display_data"
    }
   ],
   "source": [
    "summary(default_paid$collections_12_mths_ex_med)"
   ]
  },
  {
   "cell_type": "code",
   "execution_count": 249,
   "metadata": {},
   "outputs": [
    {
     "data": {
      "image/png": "[encoded data removed]"
     },
     "metadata": {},
     "output_type": "display_data"
    }
   ],
   "source": [
    "plot(density(default_paid$collections_12_mths_ex_med,na.rm = T))"
   ]
  },
  {
   "cell_type": "code",
   "execution_count": null,
   "metadata": {},
   "outputs": [],
   "source": [
    "sum(is.na(default_paid$collections_12_mths_ex_med))"
   ]
  },
  {
   "cell_type": "code",
   "execution_count": 250,
   "metadata": {},
   "outputs": [],
   "source": [
    "#impute missing value \n",
    "default_paid$collections_12_mths_ex_med[is.na(default_paid$collections_12_mths_ex_med)] = median(default_paid$collections_12_mths_ex_med,na.rm = T)"
   ]
  },
  {
   "cell_type": "markdown",
   "metadata": {},
   "source": [
    "### tot_coll_amt"
   ]
  },
  {
   "cell_type": "code",
   "execution_count": 251,
   "metadata": {},
   "outputs": [
    {
     "data": {
      "text/html": [
       "66689"
      ],
      "text/latex": [
       "66689"
      ],
      "text/markdown": [
       "66689"
      ],
      "text/plain": [
       "[1] 66689"
      ]
     },
     "metadata": {},
     "output_type": "display_data"
    }
   ],
   "source": [
    "sum(is.na(default_paid$tot_coll_amt))"
   ]
  },
  {
   "cell_type": "code",
   "execution_count": null,
   "metadata": {},
   "outputs": [],
   "source": [
    "#too many na\n",
    "#how to impute the missing value "
   ]
  },
  {
   "cell_type": "markdown",
   "metadata": {},
   "source": [
    "### pub_rec"
   ]
  },
  {
   "cell_type": "code",
   "execution_count": 252,
   "metadata": {},
   "outputs": [
    {
     "data": {
      "text/plain": [
       "   Min. 1st Qu.  Median    Mean 3rd Qu.    Max.    NA's \n",
       " 0.0000  0.0000  0.0000  0.1487  0.0000 20.0000      29 "
      ]
     },
     "metadata": {},
     "output_type": "display_data"
    }
   ],
   "source": [
    "summary(default_paid$pub_rec)"
   ]
  },
  {
   "cell_type": "code",
   "execution_count": 253,
   "metadata": {},
   "outputs": [
    {
     "data": {
      "image/png": "[encoded data removed]",
      "text/plain": [
       "Plot with title \"density.default(x = default_paid$pub_rec, na.rm = T)\""
      ]
     },
     "metadata": {},
     "output_type": "display_data"
    }
   ],
   "source": [
    "plot(density(default_paid$pub_rec,na.rm = T))"
   ]
  },
  {
   "cell_type": "code",
   "execution_count": null,
   "metadata": {},
   "outputs": [],
   "source": [
    "#show periodic peek"
   ]
  },
  {
   "cell_type": "code",
   "execution_count": null,
   "metadata": {},
   "outputs": [],
   "source": [
    "sum(is.na((default_paid$pub_rec)))"
   ]
  },
  {
   "cell_type": "code",
   "execution_count": 261,
   "metadata": {},
   "outputs": [],
   "source": [
    "#impute missing value \n",
    "default_paid$pub_rec[is.na(default_paid$pub_rec)] = median(default_paid$pub_rec,na.rm = T)"
   ]
  },
  {
   "cell_type": "markdown",
   "metadata": {},
   "source": [
    "### revol_bal"
   ]
  },
  {
   "cell_type": "markdown",
   "metadata": {},
   "source": [
    "#Total credit revolving balance\n",
    "https://www.bankrate.com/glossary/r/revolving-balance/"
   ]
  },
  {
   "cell_type": "code",
   "execution_count": 255,
   "metadata": {},
   "outputs": [
    {
     "data": {
      "text/plain": [
       "   Min. 1st Qu.  Median    Mean 3rd Qu.    Max. \n",
       "      0    5850   10927   15320   19099 1746716 "
      ]
     },
     "metadata": {},
     "output_type": "display_data"
    }
   ],
   "source": [
    "summary(default_paid$revol_bal)"
   ]
  },
  {
   "cell_type": "code",
   "execution_count": 256,
   "metadata": {},
   "outputs": [
    {
     "data": {
      "image/png": "[encoded data removed]",
      "text/plain": [
       "plot without title"
      ]
     },
     "metadata": {},
     "output_type": "display_data"
    }
   ],
   "source": [
    "boxplot(default_paid$revol_bal~default_paid$loan_status_1)"
   ]
  },
  {
   "cell_type": "code",
   "execution_count": 257,
   "metadata": {},
   "outputs": [
    {
     "data": {
      "text/plain": [
       "\n",
       "\tWelch Two Sample t-test\n",
       "\n",
       "data:  revol_bal by loan_status_1\n",
       "t = -0.26619, df = 114580, p-value = 0.7901\n",
       "alternative hypothesis: true difference in means is not equal to 0\n",
       "95 percent confidence interval:\n",
       " -193.9796  147.5900\n",
       "sample estimates:\n",
       "mean in group default    mean in group paid \n",
       "             15302.83              15326.02 \n"
      ]
     },
     "metadata": {},
     "output_type": "display_data"
    }
   ],
   "source": [
    "t.test(revol_bal ~ loan_status_1, data = default_paid)"
   ]
  },
  {
   "cell_type": "code",
   "execution_count": 258,
   "metadata": {},
   "outputs": [],
   "source": [
    "#no significant difference between two groups"
   ]
  },
  {
   "cell_type": "code",
   "execution_count": 259,
   "metadata": {},
   "outputs": [],
   "source": [
    "default_paid$revol_bal = NULL"
   ]
  },
  {
   "cell_type": "markdown",
   "metadata": {},
   "source": [
    "### revol_util"
   ]
  },
  {
   "cell_type": "code",
   "execution_count": 260,
   "metadata": {},
   "outputs": [
    {
     "data": {
      "text/plain": [
       "   Min. 1st Qu.  Median    Mean 3rd Qu.    Max.    NA's \n",
       "   0.00   36.70   56.10   54.65   74.20  892.30     253 "
      ]
     },
     "metadata": {},
     "output_type": "display_data"
    }
   ],
   "source": [
    "summary(default_paid$revol_util)"
   ]
  },
  {
   "cell_type": "code",
   "execution_count": 262,
   "metadata": {},
   "outputs": [
    {
     "data": {
      "text/html": [
       "253"
      ],
      "text/latex": [
       "253"
      ],
      "text/markdown": [
       "253"
      ],
      "text/plain": [
       "[1] 253"
      ]
     },
     "metadata": {},
     "output_type": "display_data"
    }
   ],
   "source": [
    "sum(is.na((default_paid$revol_util)))"
   ]
  },
  {
   "cell_type": "code",
   "execution_count": 263,
   "metadata": {},
   "outputs": [],
   "source": [
    "#impute missing value \n",
    "default_paid$revol_util[is.na(default_paid$revol_util)] = median(default_paid$revol_util,na.rm = T)"
   ]
  },
  {
   "cell_type": "code",
   "execution_count": 264,
   "metadata": {},
   "outputs": [
    {
     "data": {
      "image/png": "[encoded data removed]",
      "text/plain": [
       "plot without title"
      ]
     },
     "metadata": {},
     "output_type": "display_data"
    }
   ],
   "source": [
    "boxplot(default_paid$revol_util~default_paid$loan_status_1)"
   ]
  },
  {
   "cell_type": "code",
   "execution_count": 265,
   "metadata": {},
   "outputs": [
    {
     "data": {
      "text/plain": [
       "\n",
       "\tWelch Two Sample t-test\n",
       "\n",
       "data:  revol_util by loan_status_1\n",
       "t = 57.184, df = 119790, p-value < 2.2e-16\n",
       "alternative hypothesis: true difference in means is not equal to 0\n",
       "95 percent confidence interval:\n",
       " 5.844542 6.259407\n",
       "sample estimates:\n",
       "mean in group default    mean in group paid \n",
       "             59.23240              53.18042 \n"
      ]
     },
     "metadata": {},
     "output_type": "display_data"
    }
   ],
   "source": [
    "t.test(revol_util ~ loan_status_1, data = default_paid)"
   ]
  },
  {
   "cell_type": "markdown",
   "metadata": {},
   "source": [
    "### total_rev_hi_lim"
   ]
  },
  {
   "cell_type": "code",
   "execution_count": 266,
   "metadata": {},
   "outputs": [
    {
     "data": {
      "text/plain": [
       "   Min. 1st Qu.  Median    Mean 3rd Qu.    Max.    NA's \n",
       "      0   13200   22010   29436   36500 2013133   66689 "
      ]
     },
     "metadata": {},
     "output_type": "display_data"
    }
   ],
   "source": [
    "summary(default_paid$total_rev_hi_lim)"
   ]
  },
  {
   "cell_type": "code",
   "execution_count": 267,
   "metadata": {},
   "outputs": [],
   "source": [
    "#too many na"
   ]
  },
  {
   "cell_type": "markdown",
   "metadata": {},
   "source": [
    "### application_type"
   ]
  },
  {
   "cell_type": "code",
   "execution_count": 269,
   "metadata": {},
   "outputs": [
    {
     "data": {
      "text/plain": [
       "            \n",
       "             Charged Off Default Fully Paid In Grace Period Late (16-30 days)\n",
       "  INDIVIDUAL       46009    1219     209710            6250              2357\n",
       "  JOINT                0       0          1               3                 0\n",
       "            \n",
       "             Late (31-120 days)\n",
       "  INDIVIDUAL              11589\n",
       "  JOINT                       2"
      ]
     },
     "metadata": {},
     "output_type": "display_data"
    }
   ],
   "source": [
    "table(default_paid$application_type, default_paid$loan_status)"
   ]
  },
  {
   "cell_type": "code",
   "execution_count": 271,
   "metadata": {},
   "outputs": [
    {
     "data": {
      "text/plain": [
       "\n",
       "INDIVIDUAL      JOINT \n",
       "    886868        511 "
      ]
     },
     "metadata": {},
     "output_type": "display_data"
    }
   ],
   "source": [
    "table(loanT$application_type)"
   ]
  },
  {
   "cell_type": "code",
   "execution_count": 273,
   "metadata": {},
   "outputs": [],
   "source": [
    "#imbalanced data --> drop\n",
    "default_paid$application_type = NULL"
   ]
  },
  {
   "cell_type": "markdown",
   "metadata": {},
   "source": [
    "### desc"
   ]
  },
  {
   "cell_type": "code",
   "execution_count": 274,
   "metadata": {},
   "outputs": [],
   "source": [
    "#NLP later--> drop here\n",
    "default_paid$desc = NULL"
   ]
  },
  {
   "cell_type": "markdown",
   "metadata": {},
   "source": [
    "### id"
   ]
  },
  {
   "cell_type": "code",
   "execution_count": 293,
   "metadata": {},
   "outputs": [],
   "source": [
    "#drop id: useless\n",
    "default_paid$id = NULL"
   ]
  },
  {
   "cell_type": "markdown",
   "metadata": {},
   "source": [
    "### purpose"
   ]
  },
  {
   "cell_type": "code",
   "execution_count": 276,
   "metadata": {},
   "outputs": [
    {
     "data": {
      "text/plain": [
       "\n",
       "               car        credit_card debt_consolidation        educational \n",
       "              3845              54276             163180                422 \n",
       "  home_improvement              house     major_purchase            medical \n",
       "             16356               1816               6785               3125 \n",
       "            moving              other   renewable_energy     small_business \n",
       "              2241              15807                287               5245 \n",
       "          vacation            wedding \n",
       "              1733               2022 "
      ]
     },
     "metadata": {},
     "output_type": "display_data"
    }
   ],
   "source": [
    "table(default_paid$purpose)"
   ]
  },
  {
   "cell_type": "code",
   "execution_count": 277,
   "metadata": {},
   "outputs": [
    {
     "data": {
      "text/plain": [
       "                    \n",
       "                     Charged Off Default Fully Paid In Grace Period\n",
       "  car                        461      10       3249              40\n",
       "  credit_card               7895     233      42521            1150\n",
       "  debt_consolidation       27891     790     121572            3998\n",
       "  educational                 88       0        334               0\n",
       "  home_improvement          2340      47      12803             367\n",
       "  house                      297       7       1399              37\n",
       "  major_purchase             897      14       5491             125\n",
       "  medical                    591      15       2321              56\n",
       "  moving                     440      11       1634              43\n",
       "  other                     3057      65      11644             310\n",
       "  renewable_energy            55       0        215               8\n",
       "  small_business            1443      19       3464              79\n",
       "  vacation                   276       8       1331              37\n",
       "  wedding                    278       0       1733               3\n",
       "                    \n",
       "                     Late (16-30 days) Late (31-120 days)\n",
       "  car                               15                 70\n",
       "  credit_card                      381               2096\n",
       "  debt_consolidation              1510               7419\n",
       "  educational                        0                  0\n",
       "  home_improvement                 137                662\n",
       "  house                             15                 61\n",
       "  major_purchase                    51                207\n",
       "  medical                           17                125\n",
       "  moving                            23                 90\n",
       "  other                            136                595\n",
       "  renewable_energy                   0                  9\n",
       "  small_business                    50                190\n",
       "  vacation                          22                 59\n",
       "  wedding                            0                  8"
      ]
     },
     "metadata": {},
     "output_type": "display_data"
    }
   ],
   "source": [
    "table(default_paid$purpose, default_paid$loan_status)"
   ]
  },
  {
   "cell_type": "code",
   "execution_count": 279,
   "metadata": {},
   "outputs": [
    {
     "data": {
      "text/plain": [
       "\n",
       "\tPearson's Chi-squared test\n",
       "\n",
       "data:  purpose and loan_status_1\n",
       "X-squared = 1084.2, df = 13, p-value < 2.2e-16\n"
      ]
     },
     "metadata": {},
     "output_type": "display_data"
    }
   ],
   "source": [
    "with(default_paid, chisq.test(purpose, loan_status_1))"
   ]
  },
  {
   "cell_type": "code",
   "execution_count": 280,
   "metadata": {},
   "outputs": [
    {
     "data": {},
     "metadata": {},
     "output_type": "display_data"
    },
    {
     "data": {
      "image/png": "[encoded data removed]",
      "text/plain": [
       "plot without title"
      ]
     },
     "metadata": {},
     "output_type": "display_data"
    }
   ],
   "source": [
    "ggplot(data = default_paid) + geom_bar(mapping = aes(x = purpose, fill = loan_status_1))"
   ]
  },
  {
   "cell_type": "code",
   "execution_count": 281,
   "metadata": {},
   "outputs": [
    {
     "name": "stderr",
     "output_type": "stream",
     "text": [
      "Joining, by = \"purpose\"\n"
     ]
    }
   ],
   "source": [
    "pu1 = default_paid %>% filter(loan_status_1 == \"default\") %>% group_by(purpose) %>% summarise(default_count = n())\n",
    "pu2 = default_paid %>% group_by(purpose) %>% summarise(count = n())\n",
    "pu3 = pu2 %>% left_join(pu1) %>% mutate(default_rate = 100*default_count/count) %>% select(purpose,count,default_count,default_rate)"
   ]
  },
  {
   "cell_type": "code",
   "execution_count": 285,
   "metadata": {},
   "outputs": [
    {
     "data": {
      "text/html": [
       "<table>\n",
       "<thead><tr><th scope=col>purpose</th><th scope=col>count</th><th scope=col>default_count</th><th scope=col>default_rate</th></tr></thead>\n",
       "<tbody>\n",
       "\t<tr><td>wedding           </td><td>  2022            </td><td>  289             </td><td>14.29278          </td></tr>\n",
       "\t<tr><td>car               </td><td>  3845            </td><td>  596             </td><td>15.50065          </td></tr>\n",
       "\t<tr><td>major_purchase    </td><td>  6785            </td><td> 1294             </td><td>19.07148          </td></tr>\n",
       "\t<tr><td>educational       </td><td>   422            </td><td>   88             </td><td>20.85308          </td></tr>\n",
       "\t<tr><td>credit_card       </td><td> 54276            </td><td>11755             </td><td>21.65782          </td></tr>\n",
       "\t<tr><td>home_improvement  </td><td> 16356            </td><td> 3553             </td><td>21.72292          </td></tr>\n",
       "\t<tr><td>house             </td><td>  1816            </td><td>  417             </td><td>22.96256          </td></tr>\n",
       "\t<tr><td>vacation          </td><td>  1733            </td><td>  402             </td><td>23.19677          </td></tr>\n",
       "\t<tr><td>renewable_energy  </td><td>   287            </td><td>   72             </td><td>25.08711          </td></tr>\n",
       "\t<tr><td>debt_consolidation</td><td>163180            </td><td>41608             </td><td>25.49822          </td></tr>\n",
       "\t<tr><td>medical           </td><td>  3125            </td><td>  804             </td><td>25.72800          </td></tr>\n",
       "\t<tr><td>other             </td><td> 15807            </td><td> 4163             </td><td>26.33643          </td></tr>\n",
       "\t<tr><td>moving            </td><td>  2241            </td><td>  607             </td><td>27.08612          </td></tr>\n",
       "\t<tr><td>small_business    </td><td>  5245            </td><td> 1781             </td><td>33.95615          </td></tr>\n",
       "</tbody>\n",
       "</table>\n"
      ],
      "text/latex": [
       "\\begin{tabular}{r|llll}\n",
       " purpose & count & default\\_count & default\\_rate\\\\\n",
       "\\hline\n",
       "\t wedding            &   2022             &   289              & 14.29278          \\\\\n",
       "\t car                &   3845             &   596              & 15.50065          \\\\\n",
       "\t major\\_purchase     &   6785               &  1294                & 19.07148            \\\\\n",
       "\t educational        &    422             &    88              & 20.85308          \\\\\n",
       "\t credit\\_card        &  54276               & 11755                & 21.65782            \\\\\n",
       "\t home\\_improvement   &  16356               &  3553                & 21.72292            \\\\\n",
       "\t house              &   1816             &   417              & 22.96256          \\\\\n",
       "\t vacation           &   1733             &   402              & 23.19677          \\\\\n",
       "\t renewable\\_energy   &    287               &    72                & 25.08711            \\\\\n",
       "\t debt\\_consolidation & 163180               & 41608                & 25.49822            \\\\\n",
       "\t medical            &   3125             &   804              & 25.72800          \\\\\n",
       "\t other              &  15807             &  4163              & 26.33643          \\\\\n",
       "\t moving             &   2241             &   607              & 27.08612          \\\\\n",
       "\t small\\_business     &   5245               &  1781                & 33.95615            \\\\\n",
       "\\end{tabular}\n"
      ],
      "text/markdown": [
       "\n",
       "purpose | count | default_count | default_rate | \n",
       "|---|---|---|---|---|---|---|---|---|---|---|---|---|---|\n",
       "| wedding            |   2022             |   289              | 14.29278           | \n",
       "| car                |   3845             |   596              | 15.50065           | \n",
       "| major_purchase     |   6785             |  1294              | 19.07148           | \n",
       "| educational        |    422             |    88              | 20.85308           | \n",
       "| credit_card        |  54276             | 11755              | 21.65782           | \n",
       "| home_improvement   |  16356             |  3553              | 21.72292           | \n",
       "| house              |   1816             |   417              | 22.96256           | \n",
       "| vacation           |   1733             |   402              | 23.19677           | \n",
       "| renewable_energy   |    287             |    72              | 25.08711           | \n",
       "| debt_consolidation | 163180             | 41608              | 25.49822           | \n",
       "| medical            |   3125             |   804              | 25.72800           | \n",
       "| other              |  15807             |  4163              | 26.33643           | \n",
       "| moving             |   2241             |   607              | 27.08612           | \n",
       "| small_business     |   5245             |  1781              | 33.95615           | \n",
       "\n",
       "\n"
      ],
      "text/plain": [
       "   purpose            count  default_count default_rate\n",
       "1  wedding              2022   289         14.29278    \n",
       "2  car                  3845   596         15.50065    \n",
       "3  major_purchase       6785  1294         19.07148    \n",
       "4  educational           422    88         20.85308    \n",
       "5  credit_card         54276 11755         21.65782    \n",
       "6  home_improvement    16356  3553         21.72292    \n",
       "7  house                1816   417         22.96256    \n",
       "8  vacation             1733   402         23.19677    \n",
       "9  renewable_energy      287    72         25.08711    \n",
       "10 debt_consolidation 163180 41608         25.49822    \n",
       "11 medical              3125   804         25.72800    \n",
       "12 other               15807  4163         26.33643    \n",
       "13 moving               2241   607         27.08612    \n",
       "14 small_business       5245  1781         33.95615    "
      ]
     },
     "metadata": {},
     "output_type": "display_data"
    }
   ],
   "source": [
    "pu3[order(pu3$default_rate),]"
   ]
  },
  {
   "cell_type": "markdown",
   "metadata": {},
   "source": [
    "### term"
   ]
  },
  {
   "cell_type": "code",
   "execution_count": 294,
   "metadata": {},
   "outputs": [
    {
     "data": {},
     "metadata": {},
     "output_type": "display_data"
    },
    {
     "data": {
      "image/png": "[encoded data removed]",
      "text/plain": [
       "plot without title"
      ]
     },
     "metadata": {},
     "output_type": "display_data"
    }
   ],
   "source": [
    "ggplot(data = default_paid) + geom_bar(mapping = aes(x = term, fill = loan_status_1))"
   ]
  },
  {
   "cell_type": "code",
   "execution_count": 295,
   "metadata": {},
   "outputs": [
    {
     "data": {
      "text/plain": [
       "\n",
       "\tPearson's Chi-squared test with Yates' continuity correction\n",
       "\n",
       "data:  term and loan_status_1\n",
       "X-squared = 8315.7, df = 1, p-value < 2.2e-16\n"
      ]
     },
     "metadata": {},
     "output_type": "display_data"
    }
   ],
   "source": [
    "with(default_paid, chisq.test(term, loan_status_1))"
   ]
  },
  {
   "cell_type": "markdown",
   "metadata": {},
   "source": [
    "### title"
   ]
  },
  {
   "cell_type": "code",
   "execution_count": 1,
   "metadata": {},
   "outputs": [
    {
     "ename": "ERROR",
     "evalue": "Error in unique(default_paid$title): object 'default_paid' not found\n",
     "output_type": "error",
     "traceback": [
      "Error in unique(default_paid$title): object 'default_paid' not found\nTraceback:\n",
      "1. unique(default_paid$title)"
     ]
    }
   ],
   "source": [
    "length(unique(default_paid$title))"
   ]
  },
  {
   "cell_type": "code",
   "execution_count": 297,
   "metadata": {},
   "outputs": [],
   "source": [
    "#NLP but drop here\n",
    "default_paid$title = NULL"
   ]
  },
  {
   "cell_type": "markdown",
   "metadata": {},
   "source": [
    "### issue_d"
   ]
  },
  {
   "cell_type": "code",
   "execution_count": 298,
   "metadata": {},
   "outputs": [
    {
     "data": {
      "text/plain": [
       "      \n",
       "       default  paid\n",
       "  2007     158   445\n",
       "  2008     496  1897\n",
       "  2009     723  4558\n",
       "  2010    1761 10769\n",
       "  2011    3298 16470\n",
       "  2012    8444 41479\n",
       "  2013   18095 56396\n",
       "  2014   22357 54713\n",
       "  2015   12097 22984"
      ]
     },
     "metadata": {},
     "output_type": "display_data"
    }
   ],
   "source": [
    "table(default_paid$issue_d_y, default_paid$loan_status_1)"
   ]
  },
  {
   "cell_type": "code",
   "execution_count": 299,
   "metadata": {},
   "outputs": [
    {
     "name": "stderr",
     "output_type": "stream",
     "text": [
      "Joining, by = \"issue_d_y\"\n"
     ]
    }
   ],
   "source": [
    "is1 = default_paid %>% filter(loan_status_1 == \"default\") %>% group_by(issue_d_y) %>% summarise(default_count = n())\n",
    "is2 = default_paid %>% group_by(issue_d_y) %>% summarise(count = n())\n",
    "is3 = is2 %>% left_join(is1) %>% mutate(default_rate = 100*default_count/count) %>% select(issue_d_y,count,default_count,default_rate)"
   ]
  },
  {
   "cell_type": "code",
   "execution_count": 302,
   "metadata": {},
   "outputs": [
    {
     "data": {
      "text/html": [
       "<table>\n",
       "<thead><tr><th scope=col>issue_d_y</th><th scope=col>count</th><th scope=col>default_count</th><th scope=col>default_rate</th></tr></thead>\n",
       "<tbody>\n",
       "\t<tr><td>2009    </td><td> 5281   </td><td>  723   </td><td>13.69059</td></tr>\n",
       "\t<tr><td>2010    </td><td>12530   </td><td> 1761   </td><td>14.05427</td></tr>\n",
       "\t<tr><td>2011    </td><td>19768   </td><td> 3298   </td><td>16.68353</td></tr>\n",
       "\t<tr><td>2012    </td><td>49923   </td><td> 8444   </td><td>16.91405</td></tr>\n",
       "\t<tr><td>2008    </td><td> 2393   </td><td>  496   </td><td>20.72712</td></tr>\n",
       "\t<tr><td>2013    </td><td>74491   </td><td>18095   </td><td>24.29153</td></tr>\n",
       "\t<tr><td>2007    </td><td>  603   </td><td>  158   </td><td>26.20232</td></tr>\n",
       "\t<tr><td>2014    </td><td>77070   </td><td>22357   </td><td>29.00869</td></tr>\n",
       "\t<tr><td>2015    </td><td>35081   </td><td>12097   </td><td>34.48305</td></tr>\n",
       "</tbody>\n",
       "</table>\n"
      ],
      "text/latex": [
       "\\begin{tabular}{r|llll}\n",
       " issue\\_d\\_y & count & default\\_count & default\\_rate\\\\\n",
       "\\hline\n",
       "\t 2009     &  5281    &   723    & 13.69059\\\\\n",
       "\t 2010     & 12530    &  1761    & 14.05427\\\\\n",
       "\t 2011     & 19768    &  3298    & 16.68353\\\\\n",
       "\t 2012     & 49923    &  8444    & 16.91405\\\\\n",
       "\t 2008     &  2393    &   496    & 20.72712\\\\\n",
       "\t 2013     & 74491    & 18095    & 24.29153\\\\\n",
       "\t 2007     &   603    &   158    & 26.20232\\\\\n",
       "\t 2014     & 77070    & 22357    & 29.00869\\\\\n",
       "\t 2015     & 35081    & 12097    & 34.48305\\\\\n",
       "\\end{tabular}\n"
      ],
      "text/markdown": [
       "\n",
       "issue_d_y | count | default_count | default_rate | \n",
       "|---|---|---|---|---|---|---|---|---|\n",
       "| 2009     |  5281    |   723    | 13.69059 | \n",
       "| 2010     | 12530    |  1761    | 14.05427 | \n",
       "| 2011     | 19768    |  3298    | 16.68353 | \n",
       "| 2012     | 49923    |  8444    | 16.91405 | \n",
       "| 2008     |  2393    |   496    | 20.72712 | \n",
       "| 2013     | 74491    | 18095    | 24.29153 | \n",
       "| 2007     |   603    |   158    | 26.20232 | \n",
       "| 2014     | 77070    | 22357    | 29.00869 | \n",
       "| 2015     | 35081    | 12097    | 34.48305 | \n",
       "\n",
       "\n"
      ],
      "text/plain": [
       "  issue_d_y count default_count default_rate\n",
       "1 2009       5281   723         13.69059    \n",
       "2 2010      12530  1761         14.05427    \n",
       "3 2011      19768  3298         16.68353    \n",
       "4 2012      49923  8444         16.91405    \n",
       "5 2008       2393   496         20.72712    \n",
       "6 2013      74491 18095         24.29153    \n",
       "7 2007        603   158         26.20232    \n",
       "8 2014      77070 22357         29.00869    \n",
       "9 2015      35081 12097         34.48305    "
      ]
     },
     "metadata": {},
     "output_type": "display_data"
    }
   ],
   "source": [
    "is3[order(is3$default_rate),]"
   ]
  },
  {
   "cell_type": "code",
   "execution_count": 303,
   "metadata": {},
   "outputs": [],
   "source": [
    "#drop here due to the relationship with loan_status\n",
    "default_paid$issue_d = NULL"
   ]
  },
  {
   "cell_type": "markdown",
   "metadata": {},
   "source": [
    "### initial_list_status"
   ]
  },
  {
   "cell_type": "markdown",
   "metadata": {},
   "source": [
    "initial_list_status"
   ]
  },
  {
   "cell_type": "code",
   "execution_count": 305,
   "metadata": {},
   "outputs": [
    {
     "data": {
      "text/plain": [
       "   \n",
       "    default   paid\n",
       "  f   45086 151134\n",
       "  w   22343  58577"
      ]
     },
     "metadata": {},
     "output_type": "display_data"
    }
   ],
   "source": [
    "table(default_paid$initial_list_status, default_paid$loan_status_1)"
   ]
  },
  {
   "cell_type": "code",
   "execution_count": 308,
   "metadata": {},
   "outputs": [
    {
     "data": {
      "text/html": [
       "<dl class=dl-horizontal>\n",
       "\t<dt>revol_util</dt>\n",
       "\t\t<dd>0</dd>\n",
       "\t<dt>collections_12_mths_ex_med</dt>\n",
       "\t\t<dd>0</dd>\n",
       "\t<dt>delinq_2yrs</dt>\n",
       "\t\t<dd>0</dd>\n",
       "\t<dt>inq_last_6mths</dt>\n",
       "\t\t<dd>0</dd>\n",
       "\t<dt>open_acc</dt>\n",
       "\t\t<dd>0</dd>\n",
       "\t<dt>pub_rec</dt>\n",
       "\t\t<dd>0</dd>\n",
       "\t<dt>total_acc</dt>\n",
       "\t\t<dd>0</dd>\n",
       "\t<dt>acc_now_delinq</dt>\n",
       "\t\t<dd>0</dd>\n",
       "\t<dt>annual_inc</dt>\n",
       "\t\t<dd>0</dd>\n",
       "\t<dt>loan_amnt</dt>\n",
       "\t\t<dd>0</dd>\n",
       "\t<dt>funded_amnt</dt>\n",
       "\t\t<dd>0</dd>\n",
       "\t<dt>funded_amnt_inv</dt>\n",
       "\t\t<dd>0</dd>\n",
       "\t<dt>term</dt>\n",
       "\t\t<dd>0</dd>\n",
       "\t<dt>int_rate</dt>\n",
       "\t\t<dd>0</dd>\n",
       "\t<dt>installment</dt>\n",
       "\t\t<dd>0</dd>\n",
       "\t<dt>grade</dt>\n",
       "\t\t<dd>0</dd>\n",
       "\t<dt>sub_grade</dt>\n",
       "\t\t<dd>0</dd>\n",
       "\t<dt>emp_title</dt>\n",
       "\t\t<dd>0</dd>\n",
       "\t<dt>emp_length</dt>\n",
       "\t\t<dd>0</dd>\n",
       "\t<dt>home_ownership</dt>\n",
       "\t\t<dd>0</dd>\n",
       "\t<dt>verification_status</dt>\n",
       "\t\t<dd>0</dd>\n",
       "\t<dt>loan_status</dt>\n",
       "\t\t<dd>0</dd>\n",
       "\t<dt>pymnt_plan</dt>\n",
       "\t\t<dd>0</dd>\n",
       "\t<dt>url</dt>\n",
       "\t\t<dd>0</dd>\n",
       "\t<dt>purpose</dt>\n",
       "\t\t<dd>0</dd>\n",
       "\t<dt>addr_state</dt>\n",
       "\t\t<dd>0</dd>\n",
       "\t<dt>dti</dt>\n",
       "\t\t<dd>0</dd>\n",
       "\t<dt>initial_list_status</dt>\n",
       "\t\t<dd>0</dd>\n",
       "\t<dt>out_prncp</dt>\n",
       "\t\t<dd>0</dd>\n",
       "\t<dt>out_prncp_inv</dt>\n",
       "\t\t<dd>0</dd>\n",
       "\t<dt>total_pymnt</dt>\n",
       "\t\t<dd>0</dd>\n",
       "\t<dt>total_pymnt_inv</dt>\n",
       "\t\t<dd>0</dd>\n",
       "\t<dt>total_rec_prncp</dt>\n",
       "\t\t<dd>0</dd>\n",
       "\t<dt>total_rec_int</dt>\n",
       "\t\t<dd>0</dd>\n",
       "\t<dt>total_rec_late_fee</dt>\n",
       "\t\t<dd>0</dd>\n",
       "\t<dt>recoveries</dt>\n",
       "\t\t<dd>0</dd>\n",
       "\t<dt>collection_recovery_fee</dt>\n",
       "\t\t<dd>0</dd>\n",
       "\t<dt>last_pymnt_d</dt>\n",
       "\t\t<dd>0</dd>\n",
       "\t<dt>last_pymnt_amnt</dt>\n",
       "\t\t<dd>0</dd>\n",
       "\t<dt>next_pymnt_d</dt>\n",
       "\t\t<dd>0</dd>\n",
       "\t<dt>policy_code</dt>\n",
       "\t\t<dd>0</dd>\n",
       "\t<dt>verification_status_joint</dt>\n",
       "\t\t<dd>0</dd>\n",
       "\t<dt>loan_status_1</dt>\n",
       "\t\t<dd>0</dd>\n",
       "\t<dt>loan_status_2</dt>\n",
       "\t\t<dd>0</dd>\n",
       "\t<dt>issue_d_1</dt>\n",
       "\t\t<dd>0</dd>\n",
       "\t<dt>issue_d_y</dt>\n",
       "\t\t<dd>0</dd>\n",
       "\t<dt>state_default</dt>\n",
       "\t\t<dd>0</dd>\n",
       "\t<dt>earliest_cr_line</dt>\n",
       "\t\t<dd>29</dd>\n",
       "\t<dt>earliest_cr_line_y</dt>\n",
       "\t\t<dd>29</dd>\n",
       "\t<dt>tot_coll_amt</dt>\n",
       "\t\t<dd>66689</dd>\n",
       "\t<dt>tot_cur_bal</dt>\n",
       "\t\t<dd>66689</dd>\n",
       "\t<dt>total_rev_hi_lim</dt>\n",
       "\t\t<dd>66689</dd>\n",
       "</dl>\n"
      ],
      "text/latex": [
       "\\begin{description*}\n",
       "\\item[revol\\textbackslash{}\\_util] 0\n",
       "\\item[collections\\textbackslash{}\\_12\\textbackslash{}\\_mths\\textbackslash{}\\_ex\\textbackslash{}\\_med] 0\n",
       "\\item[delinq\\textbackslash{}\\_2yrs] 0\n",
       "\\item[inq\\textbackslash{}\\_last\\textbackslash{}\\_6mths] 0\n",
       "\\item[open\\textbackslash{}\\_acc] 0\n",
       "\\item[pub\\textbackslash{}\\_rec] 0\n",
       "\\item[total\\textbackslash{}\\_acc] 0\n",
       "\\item[acc\\textbackslash{}\\_now\\textbackslash{}\\_delinq] 0\n",
       "\\item[annual\\textbackslash{}\\_inc] 0\n",
       "\\item[loan\\textbackslash{}\\_amnt] 0\n",
       "\\item[funded\\textbackslash{}\\_amnt] 0\n",
       "\\item[funded\\textbackslash{}\\_amnt\\textbackslash{}\\_inv] 0\n",
       "\\item[term] 0\n",
       "\\item[int\\textbackslash{}\\_rate] 0\n",
       "\\item[installment] 0\n",
       "\\item[grade] 0\n",
       "\\item[sub\\textbackslash{}\\_grade] 0\n",
       "\\item[emp\\textbackslash{}\\_title] 0\n",
       "\\item[emp\\textbackslash{}\\_length] 0\n",
       "\\item[home\\textbackslash{}\\_ownership] 0\n",
       "\\item[verification\\textbackslash{}\\_status] 0\n",
       "\\item[loan\\textbackslash{}\\_status] 0\n",
       "\\item[pymnt\\textbackslash{}\\_plan] 0\n",
       "\\item[url] 0\n",
       "\\item[purpose] 0\n",
       "\\item[addr\\textbackslash{}\\_state] 0\n",
       "\\item[dti] 0\n",
       "\\item[initial\\textbackslash{}\\_list\\textbackslash{}\\_status] 0\n",
       "\\item[out\\textbackslash{}\\_prncp] 0\n",
       "\\item[out\\textbackslash{}\\_prncp\\textbackslash{}\\_inv] 0\n",
       "\\item[total\\textbackslash{}\\_pymnt] 0\n",
       "\\item[total\\textbackslash{}\\_pymnt\\textbackslash{}\\_inv] 0\n",
       "\\item[total\\textbackslash{}\\_rec\\textbackslash{}\\_prncp] 0\n",
       "\\item[total\\textbackslash{}\\_rec\\textbackslash{}\\_int] 0\n",
       "\\item[total\\textbackslash{}\\_rec\\textbackslash{}\\_late\\textbackslash{}\\_fee] 0\n",
       "\\item[recoveries] 0\n",
       "\\item[collection\\textbackslash{}\\_recovery\\textbackslash{}\\_fee] 0\n",
       "\\item[last\\textbackslash{}\\_pymnt\\textbackslash{}\\_d] 0\n",
       "\\item[last\\textbackslash{}\\_pymnt\\textbackslash{}\\_amnt] 0\n",
       "\\item[next\\textbackslash{}\\_pymnt\\textbackslash{}\\_d] 0\n",
       "\\item[policy\\textbackslash{}\\_code] 0\n",
       "\\item[verification\\textbackslash{}\\_status\\textbackslash{}\\_joint] 0\n",
       "\\item[loan\\textbackslash{}\\_status\\textbackslash{}\\_1] 0\n",
       "\\item[loan\\textbackslash{}\\_status\\textbackslash{}\\_2] 0\n",
       "\\item[issue\\textbackslash{}\\_d\\textbackslash{}\\_1] 0\n",
       "\\item[issue\\textbackslash{}\\_d\\textbackslash{}\\_y] 0\n",
       "\\item[state\\textbackslash{}\\_default] 0\n",
       "\\item[earliest\\textbackslash{}\\_cr\\textbackslash{}\\_line] 29\n",
       "\\item[earliest\\textbackslash{}\\_cr\\textbackslash{}\\_line\\textbackslash{}\\_y] 29\n",
       "\\item[tot\\textbackslash{}\\_coll\\textbackslash{}\\_amt] 66689\n",
       "\\item[tot\\textbackslash{}\\_cur\\textbackslash{}\\_bal] 66689\n",
       "\\item[total\\textbackslash{}\\_rev\\textbackslash{}\\_hi\\textbackslash{}\\_lim] 66689\n",
       "\\end{description*}\n"
      ],
      "text/markdown": [
       "revol_util\n",
       ":   0collections_12_mths_ex_med\n",
       ":   0delinq_2yrs\n",
       ":   0inq_last_6mths\n",
       ":   0open_acc\n",
       ":   0pub_rec\n",
       ":   0total_acc\n",
       ":   0acc_now_delinq\n",
       ":   0annual_inc\n",
       ":   0loan_amnt\n",
       ":   0funded_amnt\n",
       ":   0funded_amnt_inv\n",
       ":   0term\n",
       ":   0int_rate\n",
       ":   0installment\n",
       ":   0grade\n",
       ":   0sub_grade\n",
       ":   0emp_title\n",
       ":   0emp_length\n",
       ":   0home_ownership\n",
       ":   0verification_status\n",
       ":   0loan_status\n",
       ":   0pymnt_plan\n",
       ":   0url\n",
       ":   0purpose\n",
       ":   0addr_state\n",
       ":   0dti\n",
       ":   0initial_list_status\n",
       ":   0out_prncp\n",
       ":   0out_prncp_inv\n",
       ":   0total_pymnt\n",
       ":   0total_pymnt_inv\n",
       ":   0total_rec_prncp\n",
       ":   0total_rec_int\n",
       ":   0total_rec_late_fee\n",
       ":   0recoveries\n",
       ":   0collection_recovery_fee\n",
       ":   0last_pymnt_d\n",
       ":   0last_pymnt_amnt\n",
       ":   0next_pymnt_d\n",
       ":   0policy_code\n",
       ":   0verification_status_joint\n",
       ":   0loan_status_1\n",
       ":   0loan_status_2\n",
       ":   0issue_d_1\n",
       ":   0issue_d_y\n",
       ":   0state_default\n",
       ":   0earliest_cr_line\n",
       ":   29earliest_cr_line_y\n",
       ":   29tot_coll_amt\n",
       ":   66689tot_cur_bal\n",
       ":   66689total_rev_hi_lim\n",
       ":   66689\n",
       "\n"
      ],
      "text/plain": [
       "                revol_util collections_12_mths_ex_med \n",
       "                         0                          0 \n",
       "               delinq_2yrs             inq_last_6mths \n",
       "                         0                          0 \n",
       "                  open_acc                    pub_rec \n",
       "                         0                          0 \n",
       "                 total_acc             acc_now_delinq \n",
       "                         0                          0 \n",
       "                annual_inc                  loan_amnt \n",
       "                         0                          0 \n",
       "               funded_amnt            funded_amnt_inv \n",
       "                         0                          0 \n",
       "                      term                   int_rate \n",
       "                         0                          0 \n",
       "               installment                      grade \n",
       "                         0                          0 \n",
       "                 sub_grade                  emp_title \n",
       "                         0                          0 \n",
       "                emp_length             home_ownership \n",
       "                         0                          0 \n",
       "       verification_status                loan_status \n",
       "                         0                          0 \n",
       "                pymnt_plan                        url \n",
       "                         0                          0 \n",
       "                   purpose                 addr_state \n",
       "                         0                          0 \n",
       "                       dti        initial_list_status \n",
       "                         0                          0 \n",
       "                 out_prncp              out_prncp_inv \n",
       "                         0                          0 \n",
       "               total_pymnt            total_pymnt_inv \n",
       "                         0                          0 \n",
       "           total_rec_prncp              total_rec_int \n",
       "                         0                          0 \n",
       "        total_rec_late_fee                 recoveries \n",
       "                         0                          0 \n",
       "   collection_recovery_fee               last_pymnt_d \n",
       "                         0                          0 \n",
       "           last_pymnt_amnt               next_pymnt_d \n",
       "                         0                          0 \n",
       "               policy_code  verification_status_joint \n",
       "                         0                          0 \n",
       "             loan_status_1              loan_status_2 \n",
       "                         0                          0 \n",
       "                 issue_d_1                  issue_d_y \n",
       "                         0                          0 \n",
       "             state_default           earliest_cr_line \n",
       "                         0                         29 \n",
       "        earliest_cr_line_y               tot_coll_amt \n",
       "                        29                      66689 \n",
       "               tot_cur_bal           total_rev_hi_lim \n",
       "                     66689                      66689 "
      ]
     },
     "metadata": {},
     "output_type": "display_data"
    }
   ],
   "source": [
    "sort(sapply(default_paid, function(x) sum(length(which(is.na(x))))))"
   ]
  },
  {
   "cell_type": "code",
   "execution_count": 309,
   "metadata": {},
   "outputs": [
    {
     "data": {
      "text/html": [
       "<ol class=list-inline>\n",
       "\t<li>277140</li>\n",
       "\t<li>52</li>\n",
       "</ol>\n"
      ],
      "text/latex": [
       "\\begin{enumerate*}\n",
       "\\item 277140\n",
       "\\item 52\n",
       "\\end{enumerate*}\n"
      ],
      "text/markdown": [
       "1. 277140\n",
       "2. 52\n",
       "\n",
       "\n"
      ],
      "text/plain": [
       "[1] 277140     52"
      ]
     },
     "metadata": {},
     "output_type": "display_data"
    }
   ],
   "source": [
    "dim(default_paid)"
   ]
  },
  {
   "cell_type": "code",
   "execution_count": null,
   "metadata": {},
   "outputs": [],
   "source": []
  }
 ],
 "metadata": {
  "kernelspec": {
   "display_name": "R",
   "language": "R",
   "name": "ir"
  },
  "language_info": {
   "codemirror_mode": "r",
   "file_extension": ".r",
   "mimetype": "text/x-r-source",
   "name": "R",
   "pygments_lexer": "r",
   "version": "3.4.2"
  }
 },
 "nbformat": 4,
 "nbformat_minor": 2
}
